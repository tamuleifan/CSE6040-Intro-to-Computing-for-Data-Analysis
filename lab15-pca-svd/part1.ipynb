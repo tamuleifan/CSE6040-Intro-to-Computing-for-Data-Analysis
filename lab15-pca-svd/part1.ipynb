{
 "cells": [
  {
   "cell_type": "markdown",
   "metadata": {
    "deletable": false,
    "editable": false,
    "nbgrader": {
     "checksum": "ec8cf1650bc52f8313832f3d3611786b",
     "grade": false,
     "grade_id": "cell-ca9366ee8c91d9c6",
     "locked": true,
     "schema_version": 1,
     "solution": false
    }
   },
   "source": [
    "**Important note!** Before you turn in this lab notebook, make sure everything runs as expected:\n",
    "\n",
    "- First, **restart the kernel** -- in the menubar, select Kernel$\\rightarrow$Restart.\n",
    "- Then **run all cells** -- in the menubar, select Cell$\\rightarrow$Run All.\n",
    "\n",
    "Make sure you fill in any place that says `YOUR CODE HERE` or \"YOUR ANSWER HERE.\""
   ]
  },
  {
   "cell_type": "markdown",
   "metadata": {
    "collapsed": false
   },
   "source": [
    "# SVD-based (image) compression\n",
    "\n",
    "As an exercise in applying the SVD, this notebook asks you to apply it to the literal problem of compression, in this case for images.\n",
    "\n",
    "Note that this problem was original a final exam question in an earlier edition of the on-campus class, so if nothing else consider it good practice."
   ]
  },
  {
   "cell_type": "markdown",
   "metadata": {},
   "source": [
    "## Setup\n",
    "\n",
    "Let's load some modules and an image, which you will use the SVD to compress."
   ]
  },
  {
   "cell_type": "code",
   "execution_count": null,
   "metadata": {
    "collapsed": false
   },
   "outputs": [],
   "source": [
    "import matplotlib.pyplot as plt\n",
    "%matplotlib inline\n",
    "\n",
    "import numpy as np\n",
    "\n",
    "from PIL import Image\n",
    "\n",
    "def im2gnp(image):\n",
    "    \"\"\"Converts a PIL image into an image stored as a 2-D Numpy array in grayscale.\"\"\"\n",
    "    return np.array(image.convert ('L'))\n",
    "\n",
    "def gnp2im(image_np):\n",
    "    \"\"\"Converts an image stored as a 2-D grayscale Numpy array into a PIL image.\"\"\"\n",
    "    return Image.fromarray(image_np.astype(np.uint8), mode='L')\n",
    "\n",
    "def imshow_gray(im, ax=None):\n",
    "    if ax is None:\n",
    "        f = plt.figure()\n",
    "        ax = plt.axes()\n",
    "    ax.imshow(im,\n",
    "              interpolation='nearest',\n",
    "              cmap=plt.get_cmap('gray'))"
   ]
  },
  {
   "cell_type": "markdown",
   "metadata": {},
   "source": [
    "Let's download an image and represent it by a Numpy matrix, `img`."
   ]
  },
  {
   "cell_type": "code",
   "execution_count": null,
   "metadata": {
    "collapsed": false
   },
   "outputs": [],
   "source": [
    "import requests\n",
    "import os\n",
    "import hashlib\n",
    "import io\n",
    "\n",
    "def on_vocareum():\n",
    "    return os.path.exists('.voc')\n",
    "\n",
    "def download(file, local_dir=\"\", url_base=None, checksum=None):\n",
    "    local_file = \"{}{}\".format(local_dir, file)\n",
    "    if not os.path.exists(local_file):\n",
    "        if url_base is None:\n",
    "            url_base = \"https://cse6040.gatech.edu/datasets/\"\n",
    "        url = \"{}{}\".format(url_base, file)\n",
    "        print(\"Downloading: {} ...\".format(url))\n",
    "        r = requests.get(url)\n",
    "        with open(local_file, 'wb') as f:\n",
    "            f.write(r.content)\n",
    "            \n",
    "    if checksum is not None:\n",
    "        with io.open(local_file, 'rb') as f:\n",
    "            body = f.read()\n",
    "            body_checksum = hashlib.md5(body).hexdigest()\n",
    "            assert body_checksum == checksum, \\\n",
    "                \"Downloaded file '{}' has incorrect checksum: '{}' instead of '{}'\".format(local_file,\n",
    "                                                                                           body_checksum,\n",
    "                                                                                           checksum)\n",
    "    print(\"'{}' is ready!\".format(file))\n",
    "    \n",
    "if on_vocareum():\n",
    "    URL_BASE = \"https://cse6040.gatech.edu/datasets/tech-tower/\"\n",
    "    DATA_PATH = \"../resource/lib/publicdata/tech-tower/\"\n",
    "else:\n",
    "    URL_BASE = \"https://github.com/cse6040/labs-fa17/raw/master/datasets/tech-tower/\"\n",
    "    DATA_PATH = \"\"\n",
    "\n",
    "datasets = {'tt1.jpg': '380479dfdab7cdc100f978b0e00ad814'}\n",
    "\n",
    "for filename, checksum in datasets.items():\n",
    "    download(filename, local_dir=DATA_PATH, url_base=URL_BASE, checksum=checksum)\n",
    "    \n",
    "print(\"\\n(All data appears to be ready.)\")"
   ]
  },
  {
   "cell_type": "markdown",
   "metadata": {},
   "source": [
    "Next, let's convert this image to grayscale and print some stats, e.g., its dimensions and size (in pixels)."
   ]
  },
  {
   "cell_type": "code",
   "execution_count": null,
   "metadata": {
    "collapsed": false
   },
   "outputs": [],
   "source": [
    "pic_raw = Image.open('{}tt1.jpg'.format(DATA_PATH), 'r')\n",
    "pic = im2gnp(pic_raw)\n",
    "imshow_gray(pic)"
   ]
  },
  {
   "cell_type": "markdown",
   "metadata": {},
   "source": [
    "**Exercise 0** (1 point). Write a function that, given a Numpy array-representation of a (grayscale) image, returns its size in pixels."
   ]
  },
  {
   "cell_type": "code",
   "execution_count": null,
   "metadata": {
    "collapsed": true,
    "deletable": false,
    "nbgrader": {
     "checksum": "dbeb152dab1e8f2d5a106c6fb88bab12",
     "grade": false,
     "grade_id": "sizeof_image",
     "locked": false,
     "schema_version": 1,
     "solution": true
    }
   },
   "outputs": [],
   "source": [
    "def sizeof_image(I):\n",
    "    assert type(I) is np.ndarray\n",
    "    assert len(I.shape) == 2\n",
    "    # YOUR CODE HERE\n",
    "    raise NotImplementedError()"
   ]
  },
  {
   "cell_type": "code",
   "execution_count": null,
   "metadata": {
    "collapsed": false,
    "deletable": false,
    "editable": false,
    "nbgrader": {
     "checksum": "df09fcf9932b79c17823a72be04b3517",
     "grade": true,
     "grade_id": "sizeof_image_test",
     "locked": true,
     "points": 1.0,
     "schema_version": 1,
     "solution": false
    }
   },
   "outputs": [],
   "source": [
    "# Test cell: `sizeof_image_test`\n",
    "\n",
    "pic_pixels = sizeof_image (pic)\n",
    "\n",
    "print (\"The image uses about {:.1f} megapixels.\".format (1e-6 * pic_pixels))\n",
    "\n",
    "assert pic_pixels == 5895680\n",
    "print (\"\\n(Passed!)\")"
   ]
  },
  {
   "cell_type": "markdown",
   "metadata": {},
   "source": [
    "## Compression via the truncated SVD\n",
    "\n",
    "Recall that the $k$-truncated SVD gives the best rank-$k$ approximation to a matrix $A$. That is, if the SVD of $A$ is $A = U \\Sigma V^T$, then we can approximate $A$ by\n",
    "\n",
    "$$\n",
    "  A \\approx U_k \\Sigma_k V_k^T,\n",
    "$$\n",
    "\n",
    "where $(U_k, \\Sigma_k, V_k^T)$ is the $k$-truncated SVD, taken by retaining the $k$ largest singular values (entries of diagonal matrix $\\Sigma$), as well as the first $k$ columns of the left and right singular vectors ($U$ and $V$)."
   ]
  },
  {
   "cell_type": "markdown",
   "metadata": {},
   "source": [
    "**Key idea.** For the rest of this notebook, if you understand the following idea, then the rest should make sense.\n",
    "\n",
    "Suppose we represent the image as a matrix, $A$. Then we can also approximate $A$ with its $k$-truncated SVD, $(U_k, \\Sigma_k, V_k^T)$. **If you can choose $k$ so that the size of the representation, $(U_k, \\Sigma_k, V_k^T)$, is less than the size of original image, then we have compressed it.**"
   ]
  },
  {
   "cell_type": "markdown",
   "metadata": {},
   "source": [
    "**Exercise 1** (2 point). Write a function, `compress_image(I, k)`, that compresses an input image `I` by interpreting `I` as a matrix, computing the `k`-truncated SVD, and returning a compressed representation.\n",
    "\n",
    "For this function, we want you to return a tuple, `(S, Uk, VkT)`, where `S` is an array of _all_ the singular values (not just the top $k$) and `Uk` and `VkT` are the $k$-_truncated_ singular vectors."
   ]
  },
  {
   "cell_type": "code",
   "execution_count": null,
   "metadata": {
    "collapsed": false,
    "deletable": false,
    "nbgrader": {
     "checksum": "a095d7eeb565f5c554da45abb9fa1cc2",
     "grade": false,
     "grade_id": "compress_image",
     "locked": false,
     "schema_version": 1,
     "solution": true
    }
   },
   "outputs": [],
   "source": [
    "def compress_image(I, k):\n",
    "    # YOUR CODE HERE\n",
    "    raise NotImplementedError()\n",
    "\n",
    "# Runs your function:\n",
    "k = 10\n",
    "Sigma, Uk, VkT = compress_image(pic, k)\n",
    "\n",
    "print(Sigma.shape)\n",
    "print(Uk.shape)\n",
    "print(VkT.shape)"
   ]
  },
  {
   "cell_type": "code",
   "execution_count": null,
   "metadata": {
    "collapsed": false,
    "deletable": false,
    "editable": false,
    "nbgrader": {
     "checksum": "ca3eeb5521177ec64be0ec61888ec087",
     "grade": true,
     "grade_id": "compress_image_test",
     "locked": true,
     "points": 2.0,
     "schema_version": 1,
     "solution": false
    }
   },
   "outputs": [],
   "source": [
    "# Test cell: `compress_image_test`\n",
    "\n",
    "assert Sigma.shape == (min(pic.shape),)\n",
    "assert Uk.shape == (pic.shape[0], k)\n",
    "assert VkT.shape == (k, pic.shape[1])\n",
    "assert (Sigma[k:]**2).sum () <= 7e9\n",
    "\n",
    "print (\"\\n(Passed!)\")"
   ]
  },
  {
   "cell_type": "markdown",
   "metadata": {},
   "source": [
    "**Exercise 2** (2 points). Write a function, `sizeof_compressed_image()`, that returns the number of \"equivalent pixels\" used by the compressed (truncated SVD) representation.\n",
    "\n",
    "What are \"equivalent pixels?\" Recall these facts:\n",
    "\n",
    "- In the original grayscale image, only 1 byte is needed to store each pixel.\n",
    "- In the (truncated) SVD representation, each matrix entry is a double-precision value, which requires 8 bytes.\n",
    "\n",
    "In your implementation of this function, you may count just the $k$ largest singular values even though we asked that your `compress_image()` function return _all_ of the singular values."
   ]
  },
  {
   "cell_type": "code",
   "execution_count": null,
   "metadata": {
    "collapsed": true,
    "deletable": false,
    "nbgrader": {
     "checksum": "9eef6bddc476a3db4ee42d6a3e2f3482",
     "grade": false,
     "grade_id": "sizeof_compressed_image",
     "locked": false,
     "schema_version": 1,
     "solution": true
    }
   },
   "outputs": [],
   "source": [
    "def sizeof_compressed_image(Sigma, Uk, VkT):\n",
    "    # YOUR CODE HERE\n",
    "    raise NotImplementedError()"
   ]
  },
  {
   "cell_type": "code",
   "execution_count": null,
   "metadata": {
    "collapsed": false,
    "deletable": false,
    "editable": false,
    "nbgrader": {
     "checksum": "55ae9ed3208f03acfe60f4d6a8bd621c",
     "grade": true,
     "grade_id": "sizeof_compressed_image_test",
     "locked": true,
     "points": 2.0,
     "schema_version": 1,
     "solution": false
    }
   },
   "outputs": [],
   "source": [
    "# Test cell: `sizeof_compressed_image_test`\n",
    "\n",
    "cmp_pixels = sizeof_compressed_image(Sigma, Uk, VkT)\n",
    "\n",
    "print(\"Original image required ~ {:.1f} megapixels.\".format (1e-6 * pic_pixels))\n",
    "print(\"Compressed representation retaining k={} singular values is equivalent to ~ {:.1f} megapixels.\".format (k, 1e-6 * cmp_pixels))\n",
    "print(\"Thus, the compression ratio is {:.1f}x.\".format (pic_pixels / cmp_pixels))\n",
    "\n",
    "assert cmp_pixels == 397520\n",
    "print (\"\\n(Passed!)\")"
   ]
  },
  {
   "cell_type": "markdown",
   "metadata": {},
   "source": [
    "**Exercise 3** (2 points). Recall that the error of the compressed representation, as measured in the squared Frobenius norm, is given by the sum of the trailing singular values,\n",
    "\n",
    "$$\n",
    "  \\|A - U_k \\Sigma_k V_k^T\\|_F^2 = \\sigma_{k}^2 + \\sigma_{k+1}^2 + \\cdots + \\sigma_{s-1}^2,\n",
    "$$\n",
    "\n",
    "where $s = \\min(m, n)$ if $A$ is $m \\times n$ and we assume that the singular values are sorted from largest ($\\sigma_0$) to smallest ($\\sigma_{s-1}$).\n",
    "\n",
    "Write a function that returns the _relative_ error, measured using the Frobenius norm, i.e.,\n",
    "\n",
    "$$\n",
    "  \\dfrac{\\|A - U_k \\Sigma_k V_k^T\\|_F}\n",
    "        {\\|A\\|_F}\n",
    "        .\n",
    "$$"
   ]
  },
  {
   "cell_type": "code",
   "execution_count": null,
   "metadata": {
    "collapsed": true,
    "deletable": false,
    "nbgrader": {
     "checksum": "f4d19b84a7fe67d70b765f36e04a6f30",
     "grade": false,
     "grade_id": "compression_error",
     "locked": false,
     "schema_version": 1,
     "solution": true
    }
   },
   "outputs": [],
   "source": [
    "def compression_error (Sigma, k):\n",
    "    \"\"\"\n",
    "    Given the singular values of a matrix, return the\n",
    "    relative reconstruction error.\n",
    "    \"\"\"\n",
    "    # YOUR CODE HERE\n",
    "    raise NotImplementedError()"
   ]
  },
  {
   "cell_type": "code",
   "execution_count": null,
   "metadata": {
    "collapsed": false,
    "deletable": false,
    "editable": false,
    "nbgrader": {
     "checksum": "a5965e4e1145f4a97918dbacaf7fb762",
     "grade": true,
     "grade_id": "compression_error_test",
     "locked": true,
     "points": 2.0,
     "schema_version": 1,
     "solution": false
    }
   },
   "outputs": [],
   "source": [
    "# Test cell: `compression_error_test`\n",
    "\n",
    "err = compression_error(Sigma, k)\n",
    "print (\"Relative reconstruction (compression) error is ~ {:.1f}%.\".format (1e2*err))\n",
    "assert 0.24 <= err <= 0.26\n",
    "print (\"\\n(Passed!)\")"
   ]
  },
  {
   "cell_type": "markdown",
   "metadata": {},
   "source": [
    "**Exercise 4** (2 points). Write a function that, given the compressed representation of an image, reconstructs it approximately."
   ]
  },
  {
   "cell_type": "code",
   "execution_count": null,
   "metadata": {
    "collapsed": true,
    "deletable": false,
    "nbgrader": {
     "checksum": "7979605eafc7671943bfa8b4da69db30",
     "grade": false,
     "grade_id": "uncompress_image",
     "locked": false,
     "schema_version": 1,
     "solution": true
    }
   },
   "outputs": [],
   "source": [
    "def uncompress_image(Sigma, Uk, VkT):\n",
    "    assert Uk.shape[1] == VkT.shape[0]\n",
    "    # YOUR CODE HERE\n",
    "    raise NotImplementedError()"
   ]
  },
  {
   "cell_type": "code",
   "execution_count": null,
   "metadata": {
    "collapsed": false,
    "deletable": false,
    "editable": false,
    "nbgrader": {
     "checksum": "120b5c00bf33bc3c2dd3dadcbefbff5a",
     "grade": true,
     "grade_id": "uncompress_image_test",
     "locked": true,
     "points": 2.0,
     "schema_version": 1,
     "solution": false
    }
   },
   "outputs": [],
   "source": [
    "# Test cell: `uncompress_image_test`\n",
    "\n",
    "pic_lossy = uncompress_image(Sigma, Uk, VkT)\n",
    "\n",
    "f, ax = plt.subplots(1, 2, figsize=(15, 30))\n",
    "imshow_gray(pic, ax[0])\n",
    "imshow_gray(pic_lossy, ax[1])\n",
    "\n",
    "abs_err = np.linalg.norm(pic - pic_lossy, ord='fro')\n",
    "rel_err = abs_err / np.linalg.norm(pic, ord='fro')\n",
    "print(\"Measured relative error is ~ {:.1f}%.\".format(1e2 * rel_err))\n",
    "\n",
    "pred_rel_err = compression_error(Sigma, k)\n",
    "assert 0.95*pred_rel_err <= rel_err <= 1.05*pred_rel_err\n",
    "print(\"\\n(Passed!)\")"
   ]
  },
  {
   "cell_type": "markdown",
   "metadata": {},
   "source": [
    "**Exercise 5** (3 points). Write a function that, given the singular values of an image, determines the truncation point, $k$, that would reduce the relative error below a desired threshold.\n",
    "\n",
    "> _Hint:_ You may find Numpy's [cumulative sum](https://docs.scipy.org/doc/numpy/reference/generated/numpy.cumsum.html) handy."
   ]
  },
  {
   "cell_type": "code",
   "execution_count": null,
   "metadata": {
    "collapsed": false,
    "deletable": false,
    "nbgrader": {
     "checksum": "7a0a2bbce68109e8a25caeea3edc149e",
     "grade": false,
     "grade_id": "find_rank",
     "locked": false,
     "schema_version": 1,
     "solution": true
    }
   },
   "outputs": [],
   "source": [
    "def find_rank(rel_err_target, Sigma):\n",
    "    # YOUR CODE HERE\n",
    "    raise NotImplementedError()\n",
    "    \n",
    "rel_err_target = 0.15\n",
    "k_target = find_rank(rel_err_target, Sigma)\n",
    "\n",
    "print(\"Relative error target:\", rel_err_target)\n",
    "print(\"Suggested value of k:\", k_target)"
   ]
  },
  {
   "cell_type": "code",
   "execution_count": null,
   "metadata": {
    "collapsed": false,
    "deletable": false,
    "editable": false,
    "nbgrader": {
     "checksum": "42ba146af1b82e453c4ecde2cd305ba9",
     "grade": true,
     "grade_id": "find_rank_test",
     "locked": true,
     "points": 3.0,
     "schema_version": 1,
     "solution": false
    }
   },
   "outputs": [],
   "source": [
    "# Test cell: `find_rank_test`\n",
    "\n",
    "print(\"Compressing...\")\n",
    "Sigma_target, Uk_target, VkT_target = compress_image(pic, k_target)\n",
    "target_pixels = sizeof_compressed_image(Sigma_target,\n",
    "                                        Uk_target,\n",
    "                                        VkT_target)\n",
    "target_ratio = pic_pixels / target_pixels\n",
    "print(\"Estimated compression ratio: {:.1f}x\".format(target_ratio))\n",
    "\n",
    "pic_target = uncompress_image(Sigma_target, Uk_target, VkT_target)\n",
    "f, ax = plt.subplots(1, 2, figsize=(15, 30))\n",
    "imshow_gray(pic, ax[0])\n",
    "imshow_gray(pic_target, ax[1])\n",
    "\n",
    "assert compression_error(Sigma, k_target) <= rel_err_target\n",
    "assert compression_error(Sigma, k_target-1) > rel_err_target\n",
    "\n",
    "print(\"\\n(Passed!)\")"
   ]
  },
  {
   "cell_type": "markdown",
   "metadata": {
    "collapsed": true,
    "deletable": false,
    "editable": false,
    "nbgrader": {
     "checksum": "5dc96a323652d9191efbafdbffd717c4",
     "grade": false,
     "grade_id": "cell-24435f77d7b9604b",
     "locked": true,
     "schema_version": 1,
     "solution": false
    }
   },
   "source": [
    "**Fin!** That's the end of this notebook. If you've understood it, then you have completed this assignment."
   ]
  }
 ],
 "metadata": {
  "kernelspec": {
   "display_name": "Python 3",
   "language": "python",
   "name": "python3"
  },
  "language_info": {
   "codemirror_mode": {
    "name": "ipython",
    "version": 3
   },
   "file_extension": ".py",
   "mimetype": "text/x-python",
   "name": "python",
   "nbconvert_exporter": "python",
   "pygments_lexer": "ipython3",
   "version": "3.5.3"
  }
 },
 "nbformat": 4,
 "nbformat_minor": 0
}
