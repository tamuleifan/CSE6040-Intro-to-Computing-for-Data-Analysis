{
 "cells": [
  {
   "cell_type": "markdown",
   "metadata": {
    "deletable": false,
    "editable": false,
    "nbgrader": {
     "checksum": "ec8cf1650bc52f8313832f3d3611786b",
     "grade": false,
     "grade_id": "cell-ca9366ee8c91d9c6",
     "locked": true,
     "schema_version": 1,
     "solution": false
    }
   },
   "source": [
    "**Important note!** Before you turn in this lab notebook, make sure everything runs as expected:\n",
    "\n",
    "- First, **restart the kernel** -- in the menubar, select Kernel$\\rightarrow$Restart.\n",
    "- Then **run all cells** -- in the menubar, select Cell$\\rightarrow$Run All.\n",
    "\n",
    "Make sure you fill in any place that says `YOUR CODE HERE` or \"YOUR ANSWER HERE.\""
   ]
  },
  {
   "cell_type": "markdown",
   "metadata": {
    "deletable": false,
    "editable": false,
    "nbgrader": {
     "checksum": "132f80d349effa5f6b5157e329d09fe0",
     "grade": false,
     "grade_id": "cell-ef65176dd9b50242",
     "locked": true,
     "schema_version": 1,
     "solution": false
    }
   },
   "source": [
    "# Part 3: Sparse matrix storage\n",
    "\n",
    "This part is about sparse matrix storage in Numpy/Scipy. Start by running the following code cell to get some of the key modules you'll need."
   ]
  },
  {
   "cell_type": "code",
   "execution_count": null,
   "metadata": {
    "collapsed": true,
    "deletable": false,
    "editable": false,
    "nbgrader": {
     "checksum": "d14d29108388e120babb4adb30624ff4",
     "grade": false,
     "grade_id": "cell-6aa273f0bf5796d0",
     "locked": true,
     "schema_version": 1,
     "solution": false
    }
   },
   "outputs": [],
   "source": [
    "import numpy as np\n",
    "import pandas as pd\n",
    "from random import sample # Used to generate a random sample\n",
    "from IPython.display import display"
   ]
  },
  {
   "cell_type": "markdown",
   "metadata": {
    "deletable": false,
    "editable": false,
    "nbgrader": {
     "checksum": "7380300dc6d85a4e4e58904b29a4cfbe",
     "grade": false,
     "grade_id": "cell-6de0c71f2c3d02ac",
     "locked": true,
     "schema_version": 1,
     "solution": false
    }
   },
   "source": [
    "## Sample data\n",
    "\n",
    "For this part, you'll need to download the dataset below. It's a list of pairs of strings. The strings, it turns out, correspond to anonymized Yelp! user IDs; a pair $(a, b)$ exists if user $a$ is friends on Yelp! with user $b$."
   ]
  },
  {
   "cell_type": "markdown",
   "metadata": {
    "deletable": false,
    "editable": false,
    "nbgrader": {
     "checksum": "3f4c89c654bdb04ea88bfcbf3668f143",
     "grade": false,
     "grade_id": "cell-b2ac969cddb6c98c",
     "locked": true,
     "schema_version": 1,
     "solution": false
    }
   },
   "source": [
    "**Exercise 0** (ungraded). Verify that you can obtain the dataset and take a peek by running the two code cells that follow."
   ]
  },
  {
   "cell_type": "code",
   "execution_count": null,
   "metadata": {
    "collapsed": false,
    "deletable": false,
    "editable": false,
    "nbgrader": {
     "checksum": "74b4f1eefa4931c0b96ccdfd86aeddc1",
     "grade": true,
     "grade_id": "download",
     "locked": true,
     "points": 0,
     "schema_version": 1,
     "solution": false
    }
   },
   "outputs": [],
   "source": [
    "import requests\n",
    "import os\n",
    "import hashlib\n",
    "import io\n",
    "\n",
    "def is_vocareum():\n",
    "    return os.path.exists('.voc')\n",
    "\n",
    "file = 'UserEdges-1M.csv'\n",
    "if is_vocareum():\n",
    "    url = 'https://cse6040.gatech.edu/datasets/{}'.format(file)\n",
    "    local_filename = '../resource/lib/publicdata/{}'.format(file)\n",
    "else:\n",
    "    local_filename = file\n",
    "    url = 'https://github.com/cse6040/labs-fa17/raw/master/datasets/{}'.format(file)\n",
    "    \n",
    "if os.path.exists(local_filename):\n",
    "    print(\"[{}]\\n==> '{}' is already available.\".format(url, local_filename))\n",
    "else:\n",
    "    print(\"[{}] Downloading...\".format(url))\n",
    "    r = requests.get(url)\n",
    "    with open(local_filename, 'w', encoding=r.encoding) as f:\n",
    "        f.write(r.text)\n",
    "            \n",
    "checksum = '4668034bbcd2fa120915ea2d15eafa8d'\n",
    "with io.open(local_filename, 'r', encoding='utf-8', errors='replace') as f:\n",
    "    body = f.read()\n",
    "    body_checksum = hashlib.md5(body.encode('utf-8')).hexdigest()\n",
    "    assert body_checksum == checksum, \\\n",
    "            \"Downloaded file '{}' has incorrect checksum: '{}' instead of '{}'\".format(local_filename,\n",
    "                                                                                       body_checksum,\n",
    "                                                                                       checksum)\n",
    "    print(\"==> Checksum test passes: {}\".format(checksum))\n",
    "    \n",
    "print(\"==> '{}' is ready!\\n\".format(local_filename))"
   ]
  },
  {
   "cell_type": "code",
   "execution_count": null,
   "metadata": {
    "collapsed": false,
    "deletable": false,
    "editable": false,
    "nbgrader": {
     "checksum": "427e93234051e825cb57990cf5169d46",
     "grade": true,
     "grade_id": "peek",
     "locked": true,
     "points": 0,
     "schema_version": 1,
     "solution": false
    },
    "scrolled": true
   },
   "outputs": [],
   "source": [
    "# Peek at the data:\n",
    "edges_raw = pd.read_csv(local_filename)\n",
    "display(edges_raw.head ())\n",
    "print(\"...\\n`edges_raw` has {} entries.\".format(len(edges_raw)))"
   ]
  },
  {
   "cell_type": "markdown",
   "metadata": {},
   "source": [
    "Evidently, this dataframe has one million entries."
   ]
  },
  {
   "cell_type": "markdown",
   "metadata": {
    "deletable": false,
    "editable": false,
    "nbgrader": {
     "checksum": "7965b32e12f9293a3bb2a328434107e2",
     "grade": false,
     "grade_id": "cell-9be12247572b9e2c",
     "locked": true,
     "schema_version": 1,
     "solution": false
    }
   },
   "source": [
    "**Exercise 1** (ungraded). Explain what the following code cell does."
   ]
  },
  {
   "cell_type": "code",
   "execution_count": null,
   "metadata": {
    "collapsed": false
   },
   "outputs": [],
   "source": [
    "edges_raw_trans = pd.DataFrame({'Source': edges_raw['Target'],\n",
    "                                'Target': edges_raw['Source']})\n",
    "edges_raw_symm = pd.concat([edges_raw, edges_raw_trans])\n",
    "edges = edges_raw_symm.drop_duplicates()\n",
    "\n",
    "V_names = set(edges['Source'])\n",
    "V_names.update(set(edges['Target']))\n",
    "\n",
    "num_edges = len(edges)\n",
    "num_verts = len(V_names)\n",
    "print(\"==> |V| == {}, |E| == {}\".format(num_verts, num_edges))"
   ]
  },
  {
   "cell_type": "markdown",
   "metadata": {
    "deletable": false,
    "editable": false,
    "nbgrader": {
     "checksum": "b9df35ac1d4579e75d1fad59b56bb952",
     "grade": false,
     "grade_id": "cell-fbdbd32e87cb254e",
     "locked": true,
     "schema_version": 1,
     "solution": false
    }
   },
   "source": [
    "**Answer.** Give this question some thought before peeking at our suggested answer, which follows.\n",
    "\n",
    "Recall that the input dataframe, `edges_raw`, has a row $(a, b)$ if $a$ and $b$ are friends. But here is what is unclear at the outset: if $(a, b)$ is an entry in this table, is $(b, a)$ also an entry? The code in the above cell effectively figures that out, by computing a dataframe, `edges`, that contains both $(a, b)$ and $(b, a)$, with no additional duplicates, i.e., no copies of $(a, b)$.\n",
    "\n",
    "It also uses sets to construct a set, `V_names`, that consists of all the names. Evidently, the dataset consists of 107,456 unique names and 441,320 unique pairs, or 882,640 pairs when you \"symmetrize\" to ensure that both $(a, b)$ and $(b, a)$ appear."
   ]
  },
  {
   "cell_type": "markdown",
   "metadata": {
    "deletable": false,
    "editable": false,
    "nbgrader": {
     "checksum": "76f15494229888fb44a2ebf4cdc552d8",
     "grade": false,
     "grade_id": "cell-be3161d594957194",
     "locked": true,
     "schema_version": 1,
     "solution": false
    }
   },
   "source": [
    "## Graphs\n",
    "\n",
    "One way a computer scientist thinks of this collection of pairs is as a _graph_: https://en.wikipedia.org/wiki/Graph_(discrete_mathematics)\n",
    "\n",
    "The names or user IDs are _nodes_ or _vertices_ of this graph; the pairs are _edges_, or arrows that connect vertices. That's why the final output objects are named `V_names` (for vertex names) and `edges` (for the vertex-to-vertex relationships). The process or calculation to ensure that both $(a, b)$ and $(b, a)$ are contained in `edges` is sometimes referred to as _symmetrizing_ the graph: it ensures that if an edge $a \\rightarrow b$ exists, then so does $b \\rightarrow a$. If that's true for all edges, then the graph is _undirected_. The Wikipedia page linked to above explains these terms with some examples and helpful pictures, so take a moment to review that material before moving on.\n",
    "\n",
    "We'll also refer to this collection of vertices and edges as the _connectivity graph_."
   ]
  },
  {
   "cell_type": "markdown",
   "metadata": {
    "deletable": false,
    "editable": false,
    "nbgrader": {
     "checksum": "e0d52308e5471b08d888efbe3ed5bc50",
     "grade": false,
     "grade_id": "cell-d071e1c08339a51a",
     "locked": true,
     "schema_version": 1,
     "solution": false
    }
   },
   "source": [
    "## Sparse matrix storage: Baseline methods\n",
    "\n",
    "Let's start by reminding ourselves how our previous method for storing sparse matrices, based on nested default dictionaries, works and performs."
   ]
  },
  {
   "cell_type": "code",
   "execution_count": null,
   "metadata": {
    "collapsed": true,
    "deletable": false,
    "editable": false,
    "nbgrader": {
     "checksum": "3217ca9e70ce6b37a81e67b558af0f6d",
     "grade": false,
     "grade_id": "cell-3d39f8d2b811b0cd",
     "locked": true,
     "schema_version": 1,
     "solution": false
    }
   },
   "outputs": [],
   "source": [
    "def sparse_matrix(base_type=float):\n",
    "    \"\"\"Returns a sparse matrix using nested default dictionaries.\"\"\"\n",
    "    from collections import defaultdict\n",
    "    return defaultdict(lambda: defaultdict (base_type))\n",
    "\n",
    "def dense_vector(init, base_type=float):\n",
    "    \"\"\"\n",
    "    Returns a dense vector, either of a given length\n",
    "    and initialized to 0 values or using a given list\n",
    "    of initial values.\n",
    "    \"\"\"\n",
    "    # Case 1: `init` is a list of initial values for the vector entries\n",
    "    if type(init) is list:\n",
    "        initial_values = init\n",
    "        return [base_type(x) for x in initial_values]\n",
    "    \n",
    "    # Else, case 2: `init` is a vector length.\n",
    "    assert type(init) is int\n",
    "    return [base_type(0)] * init"
   ]
  },
  {
   "cell_type": "markdown",
   "metadata": {
    "deletable": false,
    "editable": false,
    "nbgrader": {
     "checksum": "00a4cd38ed5380ced08ebf3e60b64ce7",
     "grade": false,
     "grade_id": "cell-d8b0991e3ceff246",
     "locked": true,
     "schema_version": 1,
     "solution": false
    }
   },
   "source": [
    "**Exercise 2** (3 points). Implement a function to compute $y \\leftarrow A x$. Assume that the keys of the sparse matrix data structure are integers in the interval $[0, s)$ where $s$ is the number of rows or columns as appropriate."
   ]
  },
  {
   "cell_type": "code",
   "execution_count": null,
   "metadata": {
    "collapsed": true,
    "deletable": false,
    "nbgrader": {
     "checksum": "0900d74ec090835066d96685b2b3db7b",
     "grade": false,
     "grade_id": "spmv_baseline",
     "locked": false,
     "schema_version": 1,
     "solution": true
    }
   },
   "outputs": [],
   "source": [
    "def spmv(A, x, num_rows=None): \n",
    "    if num_rows is None:\n",
    "        num_rows = max(A.keys()) + 1\n",
    "    y = dense_vector(num_rows) \n",
    "    \n",
    "    # Recall: y = A*x is, conceptually,\n",
    "    # for all i, y[i] == sum over all j of (A[i, j] * x[j])\n",
    "    \n",
    "    # YOUR CODE HERE\n",
    "    raise NotImplementedError()\n",
    "    \n",
    "    return y"
   ]
  },
  {
   "cell_type": "code",
   "execution_count": null,
   "metadata": {
    "collapsed": false,
    "deletable": false,
    "editable": false,
    "nbgrader": {
     "checksum": "a46b7e7bdb1b23dfcd54a719cd33f69e",
     "grade": true,
     "grade_id": "spmv_baseline_test",
     "locked": true,
     "points": 3,
     "schema_version": 1,
     "solution": false
    }
   },
   "outputs": [],
   "source": [
    "# Test cell: `spmv_baseline_test`\n",
    "\n",
    "#   / 0.   -2.5   1.2 \\   / 1. \\   / -1.4 \\\n",
    "#   | 0.1   1.    0.  | = | 2. | = |  2.1 |\n",
    "#   \\ 6.   -1.    0.  /   \\ 3. /   \\  4.0 /\n",
    "\n",
    "A = sparse_matrix ()\n",
    "A[0][1] = -2.5\n",
    "A[0][2] = 1.2\n",
    "A[1][0] = 0.1\n",
    "A[1][1] = 1.\n",
    "A[2][0] = 6.\n",
    "A[2][1] = -1.\n",
    "\n",
    "x = dense_vector ([1, 2, 3])\n",
    "y0 = dense_vector ([-1.4, 2.1, 4.0])\n",
    "\n",
    "\n",
    "# Try your code:\n",
    "y = spmv(A, x)\n",
    "\n",
    "max_abs_residual = max([abs(a-b) for a, b in zip(y, y0)])\n",
    "\n",
    "print (\"==> A:\", A)\n",
    "print (\"==> x:\", x)\n",
    "print (\"==> True solution, y0:\", y0)\n",
    "print (\"==> Your solution, y:\", y)\n",
    "print (\"==> Residual (infinity norm):\", max_abs_residual)\n",
    "assert max_abs_residual <= 1e-14\n",
    "\n",
    "print (\"\\n(Passed.)\")"
   ]
  },
  {
   "cell_type": "markdown",
   "metadata": {},
   "source": [
    "Next, let's convert the `edges` input into a sparse matrix representing its connectivity graph. To do so, we'll first want to map names to integers."
   ]
  },
  {
   "cell_type": "code",
   "execution_count": null,
   "metadata": {
    "collapsed": false
   },
   "outputs": [],
   "source": [
    "id2name = {} # id2name[id] == name\n",
    "name2id = {} # name2id[name] == id\n",
    "\n",
    "for k, v in enumerate (V_names):\n",
    "    # for debugging\n",
    "    if k <= 5: print (\"Name %s -> Vertex id %d\" % (v, k))\n",
    "    if k == 6: print (\"...\")\n",
    "        \n",
    "    id2name[k] = v\n",
    "    name2id[v] = k"
   ]
  },
  {
   "cell_type": "markdown",
   "metadata": {
    "deletable": false,
    "editable": false,
    "nbgrader": {
     "checksum": "8a02a1071c85082c956309ed9279964f",
     "grade": false,
     "grade_id": "cell-e6c177e3e661b3f4",
     "locked": true,
     "schema_version": 1,
     "solution": false
    }
   },
   "source": [
    "**Exercise 3** (3 points). Given `id2name` and `name2id` as computed above, convert `edges` into a sparse matrix, `G`, where there is an entry `G[s][t] == 1.0` wherever an edge `(s, t)` exists."
   ]
  },
  {
   "cell_type": "code",
   "execution_count": null,
   "metadata": {
    "collapsed": true,
    "deletable": false,
    "nbgrader": {
     "checksum": "fb2e79a6986afdc31caa576c04f83f70",
     "grade": false,
     "grade_id": "edges2spmat1",
     "locked": false,
     "schema_version": 1,
     "solution": true
    }
   },
   "outputs": [],
   "source": [
    "G = sparse_matrix()\n",
    "\n",
    "# YOUR CODE HERE\n",
    "raise NotImplementedError()"
   ]
  },
  {
   "cell_type": "code",
   "execution_count": null,
   "metadata": {
    "collapsed": false,
    "deletable": false,
    "editable": false,
    "nbgrader": {
     "checksum": "1d1f5376fc6a860366c7124c718361b6",
     "grade": true,
     "grade_id": "edges2spmat1_test",
     "locked": true,
     "points": 3,
     "schema_version": 1,
     "solution": false
    }
   },
   "outputs": [],
   "source": [
    "# Test cell: `edges2spmat1_test`\n",
    "\n",
    "G_rows_nnz = [len(row_i) for row_i in G.values()]\n",
    "print (\"G has {} vertices and {} edges.\".format(len(G.keys()), sum(G_rows_nnz)))\n",
    "\n",
    "assert len(G.keys()) == num_verts\n",
    "assert sum(G_rows_nnz) == num_edges\n",
    "\n",
    "# Check a random sample\n",
    "for k in sample(range(num_edges), 1000):\n",
    "    i = name2id[edges['Source'].iloc[k]]\n",
    "    j = name2id[edges['Target'].iloc[k]]\n",
    "    assert i in G\n",
    "    assert j in G[i]\n",
    "    assert G[i][j] == 1.0\n",
    "\n",
    "print (\"\\n(Passed.)\")"
   ]
  },
  {
   "cell_type": "markdown",
   "metadata": {
    "deletable": false,
    "editable": false,
    "nbgrader": {
     "checksum": "0d9d0f67a091e699f0080ba62465e6a1",
     "grade": false,
     "grade_id": "cell-2cea4ccc61e8292b",
     "locked": true,
     "schema_version": 1,
     "solution": false
    }
   },
   "source": [
    "**Exercise 4** (3 points). In the above, we asked you to construct `G` using integer keys. However, since we are, after all, using default dictionaries, we could also use the vertex _names_ as keys. Construct a new sparse matrix, `H`, which uses the vertex names as keys instead of integers."
   ]
  },
  {
   "cell_type": "code",
   "execution_count": null,
   "metadata": {
    "collapsed": true,
    "deletable": false,
    "nbgrader": {
     "checksum": "f69140613f4405c743ab5af94e256406",
     "grade": false,
     "grade_id": "create_H",
     "locked": false,
     "schema_version": 1,
     "solution": true
    }
   },
   "outputs": [],
   "source": [
    "H = sparse_matrix()\n",
    "\n",
    "# YOUR CODE HERE\n",
    "raise NotImplementedError()"
   ]
  },
  {
   "cell_type": "code",
   "execution_count": null,
   "metadata": {
    "collapsed": false,
    "deletable": false,
    "editable": false,
    "nbgrader": {
     "checksum": "384d0b835089da6e722c4b7b6b598d86",
     "grade": true,
     "grade_id": "create_H_test",
     "locked": true,
     "points": 3,
     "schema_version": 1,
     "solution": false
    }
   },
   "outputs": [],
   "source": [
    "# Test cell: `create_H_test`\n",
    "\n",
    "H_rows_nnz = [len(h) for h in H.values()]\n",
    "print(\"`H` has {} vertices and {} edges.\".format(len(H.keys()), sum(H_rows_nnz)))\n",
    "\n",
    "assert len(H.keys()) == num_verts\n",
    "assert sum(H_rows_nnz) == num_edges\n",
    "\n",
    "# Check a random sample\n",
    "for i in sample(G.keys(), 100):\n",
    "    i_name = id2name[i]\n",
    "    assert i_name in H\n",
    "    assert len(G[i]) == len(H[i_name])\n",
    "    \n",
    "print (\"\\n(Passed.)\")"
   ]
  },
  {
   "cell_type": "markdown",
   "metadata": {
    "deletable": false,
    "editable": false,
    "nbgrader": {
     "checksum": "cffa94af09eeeb3e0c88ab43f80f3844",
     "grade": false,
     "grade_id": "cell-70283ef6ee2ba97b",
     "locked": true,
     "schema_version": 1,
     "solution": false
    }
   },
   "source": [
    "**Exercise 5** (3 points). Implement a sparse matrix-vector multiply for matrices with named keys. In this case, it will be convenient to have vectors that also have named keys; assume we use dictionaries to hold these vectors as suggested in the code skeleton, below."
   ]
  },
  {
   "cell_type": "code",
   "execution_count": null,
   "metadata": {
    "collapsed": true,
    "deletable": false,
    "nbgrader": {
     "checksum": "d214f639a1bc9c1f39ba9ea0e114cb6c",
     "grade": false,
     "grade_id": "spmv_keyed",
     "locked": false,
     "schema_version": 1,
     "solution": true
    }
   },
   "outputs": [],
   "source": [
    "def vector_keyed(keys=None, values=0, base_type=float):\n",
    "    if keys is not None:\n",
    "        if type(values) is not list:\n",
    "            values = [base_type(values)] * len(keys)\n",
    "        else:\n",
    "            values = [base_type(v) for v in values]\n",
    "        x = dict(zip(keys, values))\n",
    "    else:\n",
    "        x = {}\n",
    "    return x\n",
    "\n",
    "def spmv_keyed(A, x):\n",
    "    \"\"\"Performs a aparse matrix-vector multiply for keyed matrices and vectors.\"\"\"\n",
    "    assert type(x) is dict\n",
    "    \n",
    "    y = vector_keyed(keys=x.keys(), values=0.0)\n",
    "    \n",
    "    # YOUR CODE HERE\n",
    "    raise NotImplementedError()\n",
    "    \n",
    "    return y"
   ]
  },
  {
   "cell_type": "code",
   "execution_count": null,
   "metadata": {
    "collapsed": false,
    "deletable": false,
    "editable": false,
    "nbgrader": {
     "checksum": "fc7622685c67c699652546129e3c93a7",
     "grade": true,
     "grade_id": "spmv_keyed_test",
     "locked": true,
     "points": 3,
     "schema_version": 1,
     "solution": false
    }
   },
   "outputs": [],
   "source": [
    "# Test cell: `spmv_keyed_test`\n",
    "\n",
    "#   'row':  / 0.   -2.5   1.2 \\   / 1. \\   / -1.4 \\\n",
    "#  'your':  | 0.1   1.    0.  | = | 2. | = |  2.1 |\n",
    "#  'boat':  \\ 6.   -1.    0.  /   \\ 3. /   \\  4.0 /\n",
    "\n",
    "KEYS = ['row', 'your', 'boat']\n",
    "\n",
    "A_keyed = sparse_matrix ()\n",
    "A_keyed['row']['your'] = -2.5\n",
    "A_keyed['row']['boat'] = 1.2\n",
    "A_keyed['your']['row'] = 0.1\n",
    "A_keyed['your']['your'] = 1.\n",
    "A_keyed['boat']['row'] = 6.\n",
    "A_keyed['boat']['your'] = -1.\n",
    "\n",
    "x_keyed = vector_keyed (KEYS, [1, 2, 3])\n",
    "y0_keyed = vector_keyed (KEYS, [-1.4, 2.1, 4.0])\n",
    "\n",
    "\n",
    "# Try your code:\n",
    "y_keyed = spmv_keyed (A_keyed, x_keyed)\n",
    "\n",
    "# Measure the residual:\n",
    "residuals = [(y_keyed[k] - y0_keyed[k]) for k in KEYS]\n",
    "max_abs_residual = max ([abs (r) for r in residuals])\n",
    "\n",
    "print (\"==> A_keyed:\", A_keyed)\n",
    "print (\"==> x_keyed:\", x_keyed)\n",
    "print (\"==> True solution, y0_keyed:\", y0_keyed)\n",
    "print (\"==> Your solution:\", y_keyed)\n",
    "print (\"==> Residual (infinity norm):\", max_abs_residual)\n",
    "assert max_abs_residual <= 1e-14\n",
    "\n",
    "print (\"\\n(Passed.)\")"
   ]
  },
  {
   "cell_type": "markdown",
   "metadata": {
    "deletable": false,
    "editable": false,
    "nbgrader": {
     "checksum": "b30193d58357815db1f5ee74f00080ca",
     "grade": false,
     "grade_id": "cell-082a92f6bf532765",
     "locked": true,
     "schema_version": 1,
     "solution": false
    }
   },
   "source": [
    "Let's benchmark `spmv()` against `spmv_keyed()` on the full data set. Do they perform differently?"
   ]
  },
  {
   "cell_type": "code",
   "execution_count": null,
   "metadata": {
    "collapsed": false
   },
   "outputs": [],
   "source": [
    "x = dense_vector ([1.] * num_verts)\n",
    "%timeit spmv (G, x)\n",
    "\n",
    "x_keyed = vector_keyed (keys=[v for v in V_names], values=1.)\n",
    "%timeit spmv_keyed (H, x_keyed)"
   ]
  },
  {
   "cell_type": "markdown",
   "metadata": {
    "deletable": false,
    "editable": false,
    "nbgrader": {
     "checksum": "36a5295d2e0e84ad17a13dd58f66776b",
     "grade": false,
     "grade_id": "cell-5d768ea95d0ca6c1",
     "locked": true,
     "schema_version": 1,
     "solution": false
    }
   },
   "source": [
    "## Alternative formats: \n",
    "\n",
    "Take a look at the following slides: [link](https://www.dropbox.com/s/4fwq21dy60g4w4u/cse6040-matrix-storage-notes.pdf?dl=0). These slides cover the basics of two list-based sparse matrix formats known as _coordinate format_ (COO) and _compressed sparse row_ (CSR). We will also discuss them briefly below."
   ]
  },
  {
   "cell_type": "markdown",
   "metadata": {
    "deletable": false,
    "editable": false,
    "nbgrader": {
     "checksum": "2515bf6634ddd3c3e9d6296aeda01694",
     "grade": false,
     "grade_id": "cell-4bf324e720a3e630",
     "locked": true,
     "schema_version": 1,
     "solution": false
    }
   },
   "source": [
    "### Coordinate Format (COO)\n",
    "In this format we store three lists, one each for rows, columns and the elements of the matrix. Look at the below picture to understand how these lists are formed."
   ]
  },
  {
   "cell_type": "markdown",
   "metadata": {
    "deletable": false,
    "editable": false,
    "nbgrader": {
     "checksum": "882c645a003d305d06f9602301b7b7c0",
     "grade": false,
     "grade_id": "cell-6bdb33cc2c955d82",
     "locked": true,
     "schema_version": 1,
     "solution": false
    }
   },
   "source": [
    "![Coordinate (COO) storage](https://github.com/cse6040/labs-fa17/raw/master/lab10-numpy/coo.png)"
   ]
  },
  {
   "cell_type": "markdown",
   "metadata": {},
   "source": [
    "**Exercise 6** (3 points). Convert the `edges[:]` data into a coordinate (COO) data structure in native Python using three lists, `coo_rows[:]`, `coo_cols[:]`, and `coo_vals[:]`, to store the row indices, column indices, and matrix values, respectively. Use integer indices and set all values to 1."
   ]
  },
  {
   "cell_type": "code",
   "execution_count": null,
   "metadata": {
    "collapsed": true,
    "deletable": false,
    "nbgrader": {
     "checksum": "743f3f0274ab64002cbfc488f983ab48",
     "grade": false,
     "grade_id": "create_coo",
     "locked": false,
     "schema_version": 1,
     "solution": true
    }
   },
   "outputs": [],
   "source": [
    "# YOUR CODE HERE\n",
    "raise NotImplementedError()"
   ]
  },
  {
   "cell_type": "code",
   "execution_count": null,
   "metadata": {
    "collapsed": false,
    "deletable": false,
    "editable": false,
    "nbgrader": {
     "checksum": "cc5f9c7137c2f831b755926dd722a427",
     "grade": true,
     "grade_id": "create_coo_test",
     "locked": true,
     "points": 3,
     "schema_version": 1,
     "solution": false
    }
   },
   "outputs": [],
   "source": [
    "# Test cell: `create_coo_test`\n",
    "\n",
    "assert len (coo_rows) == num_edges\n",
    "assert len (coo_cols) == num_edges\n",
    "assert len (coo_vals) == num_edges\n",
    "assert all ([v == 1. for v in coo_vals])\n",
    "\n",
    "# Randomly check a bunch of values\n",
    "coo_zip = zip (coo_rows, coo_cols, coo_vals)\n",
    "for i, j, a_ij in sample (list (coo_zip), 1000):\n",
    "    assert (i in G) and j in G[i]\n",
    "    \n",
    "print (\"\\n(Passed.)\")"
   ]
  },
  {
   "cell_type": "markdown",
   "metadata": {},
   "source": [
    "**Exercise 7** (3 points). Implement a sparse matrix-vector multiply routine for COO implementation."
   ]
  },
  {
   "cell_type": "code",
   "execution_count": null,
   "metadata": {
    "collapsed": true,
    "deletable": false,
    "nbgrader": {
     "checksum": "4aae7562e96b23bcd0c0f2d5ec673dc7",
     "grade": false,
     "grade_id": "spmv_coo",
     "locked": false,
     "schema_version": 1,
     "solution": true
    }
   },
   "outputs": [],
   "source": [
    "def spmv_coo(R, C, V, x, num_rows=None):\n",
    "    \"\"\"\n",
    "    Returns y = A*x, where A has 'm' rows and is stored in\n",
    "    COO format by the array triples, (R, C, V).\n",
    "    \"\"\"\n",
    "    assert type(x) is list\n",
    "    assert type(R) is list\n",
    "    assert type(C) is list\n",
    "    assert type(V) is list\n",
    "    assert len(R) == len(C) == len(V)\n",
    "    if num_rows is None:\n",
    "        num_rows = max(R) + 1\n",
    "    \n",
    "    y = dense_vector(num_rows)\n",
    "    \n",
    "    # YOUR CODE HERE\n",
    "    raise NotImplementedError()\n",
    "    \n",
    "    return y"
   ]
  },
  {
   "cell_type": "code",
   "execution_count": null,
   "metadata": {
    "collapsed": false,
    "deletable": false,
    "editable": false,
    "nbgrader": {
     "checksum": "f6590eeb2d803dee63f978c88b5b4805",
     "grade": true,
     "grade_id": "spmv_coo_test",
     "locked": true,
     "points": 3,
     "schema_version": 1,
     "solution": false
    }
   },
   "outputs": [],
   "source": [
    "# Test cell: `spmv_coo_test`\n",
    "\n",
    "#   / 0.   -2.5   1.2 \\   / 1. \\   / -1.4 \\\n",
    "#   | 0.1   1.    0.  | = | 2. | = |  2.1 |\n",
    "#   \\ 6.   -1.    0.  /   \\ 3. /   \\  4.0 /\n",
    "\n",
    "A_coo_rows = [0, 0, 1, 1, 2, 2]\n",
    "A_coo_cols = [1, 2, 0, 1, 0, 1]\n",
    "A_coo_vals = [-2.5, 1.2, 0.1, 1., 6., -1.]\n",
    "\n",
    "x = dense_vector([1, 2, 3])\n",
    "y0 = dense_vector([-1.4, 2.1, 4.0])\n",
    "\n",
    "# Try your code:\n",
    "y_coo = spmv_coo(A_coo_rows, A_coo_cols, A_coo_vals, x)\n",
    "\n",
    "max_abs_residual = max ([abs(a-b) for a, b in zip(y_coo, y0)])\n",
    "\n",
    "print(\"==> A_coo:\", list(zip(A_coo_rows, A_coo_cols, A_coo_vals)))\n",
    "print(\"==> x:\", x)\n",
    "print(\"==> True solution, y0:\", y0)\n",
    "print(\"==> Your solution:\", y_coo)\n",
    "print(\"==> Residual (infinity norm):\", max_abs_residual)\n",
    "assert max_abs_residual <= 1e-15\n",
    "\n",
    "print(\"\\n(Passed.)\")"
   ]
  },
  {
   "cell_type": "markdown",
   "metadata": {},
   "source": [
    "Let's see how fast this is..."
   ]
  },
  {
   "cell_type": "code",
   "execution_count": null,
   "metadata": {
    "collapsed": false
   },
   "outputs": [],
   "source": [
    "x = dense_vector([1.] * num_verts)\n",
    "%timeit spmv_coo(coo_rows, coo_cols, coo_vals, x)"
   ]
  },
  {
   "cell_type": "markdown",
   "metadata": {},
   "source": [
    "### Compressed Sparse Row Format\n",
    "This is similar to the COO format excpet that it is much more compact and takes up less storage. Look at the picture below to understand more about this representation\n",
    "\n",
    "![Compressed sparse row (CSR) format](https://github.com/cse6040/labs-fa17/raw/master/lab10-numpy/csr.png)"
   ]
  },
  {
   "cell_type": "markdown",
   "metadata": {},
   "source": [
    "**Exercise 8** (3 points). Now create a CSR data structure, again using native Python lists. Name your output CSR lists `csr_ptrs`, `csr_inds`, and `csr_vals`.\n",
    "\n",
    "It's easiest to start with the COO representation. We've given you some starter code."
   ]
  },
  {
   "cell_type": "code",
   "execution_count": null,
   "metadata": {
    "collapsed": false,
    "deletable": false,
    "nbgrader": {
     "checksum": "eaae61fe9d88cff68f64f5de503541d0",
     "grade": false,
     "grade_id": "create_csr",
     "locked": false,
     "schema_version": 1,
     "solution": true
    }
   },
   "outputs": [],
   "source": [
    "from operator import itemgetter\n",
    "C = sorted(zip(coo_rows, coo_cols, coo_vals), key=itemgetter(0))\n",
    "nnz = len(C)\n",
    "assert nnz >= 1\n",
    "\n",
    "assert (C[-1][0] + 1) == num_verts  # Why?\n",
    "\n",
    "csr_inds = [j for _, j, _ in C]\n",
    "csr_vals = [a_ij for _, _, a_ij in C]\n",
    "\n",
    "# Your task: Compute `csr_ptrs`\n",
    "# YOUR CODE HERE\n",
    "raise NotImplementedError()"
   ]
  },
  {
   "cell_type": "code",
   "execution_count": null,
   "metadata": {
    "collapsed": false,
    "deletable": false,
    "editable": false,
    "nbgrader": {
     "checksum": "58c4f85314defe007d76389a4efd239c",
     "grade": true,
     "grade_id": "create_csr_test",
     "locked": true,
     "points": 3,
     "schema_version": 1,
     "solution": false
    }
   },
   "outputs": [],
   "source": [
    "# Test cell: `create_csr_test`\n",
    "\n",
    "assert type(csr_ptrs) is list, \"`csr_ptrs` is not a list.\"\n",
    "assert type(csr_inds) is list, \"`csr_inds` is not a list.\"\n",
    "assert type(csr_vals) is list, \"`csr_vals` is not a list.\"\n",
    "\n",
    "assert len(csr_ptrs) == (num_verts + 1), \"`csr_ptrs` has {} values instead of {}\".format(len(csr_ptrs), num_verts)\n",
    "assert len(csr_inds) == num_edges, \"`csr_inds` has {} values instead of {}\".format(len(csr_inds), num_edges)\n",
    "assert len(csr_vals) == num_edges, \"`csr_vals` has {} values instead of {}\".format(len(csr_vals), num_edges)\n",
    "assert csr_ptrs[num_verts] == num_edges, \"`csr_ptrs[{}]` == {} instead of {}\".format(num_verts, csr_ptrs[num_verts], num_edges)\n",
    "\n",
    "# Check some random entries\n",
    "for i in sample(range(num_verts), 10000):\n",
    "    assert i in G\n",
    "    a, b = csr_ptrs[i], csr_ptrs[i+1]\n",
    "    msg_prefix = \"Row {} should have these nonzeros: {}\".format(i, G[i])\n",
    "    assert (b-a) == len(G[i]), \"{}, which is {} nonzeros; instead, it has just {}.\".format(msg_prefix, len(G[i]), b-a)\n",
    "    assert all([(j in G[i]) for j in csr_inds[a:b]]), \"{}. However, it may have missing or incorrect column indices: csr_inds[{}:{}] == {}\".format(msg_prefix, a, b, csr_inds[a:b])\n",
    "    assert all([(j in csr_inds[a:b] for j in G[i].keys())]), \"{}. However, it may have missing or incorrect column indices: csr_inds[{}:{}] == {}\".format(msg_prefix, a, b, csr_inds[a:b])\n",
    "\n",
    "print (\"\\n(Passed.)\")"
   ]
  },
  {
   "cell_type": "markdown",
   "metadata": {},
   "source": [
    "**Exercise 9** (3 points). Now implement a CSR-based sparse matrix-vector multiply."
   ]
  },
  {
   "cell_type": "code",
   "execution_count": null,
   "metadata": {
    "collapsed": false,
    "deletable": false,
    "nbgrader": {
     "checksum": "ac1e00e1aef6f56491415462030352ab",
     "grade": false,
     "grade_id": "spmv_csr",
     "locked": false,
     "schema_version": 1,
     "solution": true
    }
   },
   "outputs": [],
   "source": [
    "def spmv_csr(ptr, ind, val, x, num_rows=None):\n",
    "    assert type(ptr) == list\n",
    "    assert type(ind) == list\n",
    "    assert type(val) == list\n",
    "    assert type(x) == list\n",
    "    if num_rows is None: num_rows = len(ptr) - 1\n",
    "    assert len(ptr) >= (num_rows+1)  # Why?\n",
    "    assert len(ind) >= ptr[num_rows]  # Why?\n",
    "    assert len(val) >= ptr[num_rows]  # Why?\n",
    "    \n",
    "    y = dense_vector(num_rows)\n",
    "    \n",
    "    # YOUR CODE HERE\n",
    "    raise NotImplementedError()\n",
    "    \n",
    "    return y"
   ]
  },
  {
   "cell_type": "code",
   "execution_count": null,
   "metadata": {
    "collapsed": false,
    "deletable": false,
    "editable": false,
    "nbgrader": {
     "checksum": "a7799c50c8f92e868dcd1594abbd3962",
     "grade": true,
     "grade_id": "spmv_csr_test",
     "locked": true,
     "points": 3,
     "schema_version": 1,
     "solution": false
    }
   },
   "outputs": [],
   "source": [
    "# Test cell: `spmv_csr_test`\n",
    "\n",
    "#   / 0.   -2.5   1.2 \\   / 1. \\   / -1.4 \\\n",
    "#   | 0.1   1.    0.  | = | 2. | = |  2.1 |\n",
    "#   \\ 6.   -1.    0.  /   \\ 3. /   \\  4.0 /\n",
    "\n",
    "A_csr_ptrs = [ 0,        2,       4,       6]\n",
    "A_csr_cols = [ 1,   2,   0,   1,  0,   1]\n",
    "A_csr_vals = [-2.5, 1.2, 0.1, 1., 6., -1.]\n",
    "\n",
    "x = dense_vector([1, 2, 3])\n",
    "y0 = dense_vector([-1.4, 2.1, 4.0])\n",
    "\n",
    "# Try your code:\n",
    "y_csr = spmv_csr(A_csr_ptrs, A_csr_cols, A_csr_vals, x)\n",
    "\n",
    "max_abs_residual = max([abs(a-b) for a, b in zip(y_csr, y0)])\n",
    "\n",
    "print (\"==> A_csr_ptrs:\", A_csr_ptrs)\n",
    "print (\"==> A_csr_{cols, vals}:\", list(zip(A_csr_cols, A_csr_vals)))\n",
    "print (\"==> x:\", x)\n",
    "print (\"==> True solution, y0:\", y0)\n",
    "print (\"==> Your solution:\", y_csr)\n",
    "print (\"==> Residual (infinity norm):\", max_abs_residual)\n",
    "assert max_abs_residual <= 1e-14\n",
    "\n",
    "print (\"\\n(Passed.)\")"
   ]
  },
  {
   "cell_type": "code",
   "execution_count": null,
   "metadata": {
    "collapsed": false
   },
   "outputs": [],
   "source": [
    "x = dense_vector([1.] * num_verts)\n",
    "%timeit spmv_csr(csr_ptrs, csr_inds, csr_vals, x)"
   ]
  },
  {
   "cell_type": "markdown",
   "metadata": {
    "collapsed": true
   },
   "source": [
    "## Using Scipy's implementations\n",
    "\n",
    "What you should have noticed is that the list-based COO and CSR formats do not really lead to sparse matrix-vector multiply implementations that are much faster than the dictionary-based methods. Let's instead try Scipy's native COO and CSR implementations."
   ]
  },
  {
   "cell_type": "code",
   "execution_count": null,
   "metadata": {
    "collapsed": false
   },
   "outputs": [],
   "source": [
    "import numpy as np\n",
    "import scipy.sparse as sp\n",
    "\n",
    "A_coo_sp = sp.coo_matrix((coo_vals, (coo_rows, coo_cols)))\n",
    "A_csr_sp = A_coo_sp.tocsr() # Alternatively: sp.csr_matrix((val, ind, ptr))\n",
    "x_sp = np.ones(num_verts)\n",
    "\n",
    "print (\"\\n==> COO in Scipy:\")\n",
    "%timeit A_coo_sp.dot (x_sp)\n",
    "\n",
    "print (\"\\n==> CSR in Scipy:\")\n",
    "%timeit A_csr_sp.dot (x_sp)"
   ]
  },
  {
   "cell_type": "markdown",
   "metadata": {
    "deletable": false,
    "editable": false,
    "nbgrader": {
     "checksum": "b130eb21a9c2457d8d8755e5e31e8681",
     "grade": false,
     "grade_id": "cell-32d6c000d64253c6",
     "locked": true,
     "schema_version": 1,
     "solution": false
    }
   },
   "source": [
    "**Fin!** If your notebook runs to this point without error, try submitting it."
   ]
  }
 ],
 "metadata": {
  "anaconda-cloud": {},
  "kernelspec": {
   "display_name": "Python 3",
   "language": "python",
   "name": "python3"
  },
  "language_info": {
   "codemirror_mode": {
    "name": "ipython",
    "version": 3
   },
   "file_extension": ".py",
   "mimetype": "text/x-python",
   "name": "python",
   "nbconvert_exporter": "python",
   "pygments_lexer": "ipython3",
   "version": "3.5.3"
  }
 },
 "nbformat": 4,
 "nbformat_minor": 1
}
