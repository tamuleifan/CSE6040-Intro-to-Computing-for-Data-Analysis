{
 "cells": [
  {
   "cell_type": "markdown",
   "metadata": {
    "deletable": false,
    "editable": false,
    "nbgrader": {
     "checksum": "ec8cf1650bc52f8313832f3d3611786b",
     "grade": false,
     "grade_id": "cell-ca9366ee8c91d9c6",
     "locked": true,
     "schema_version": 1,
     "solution": false
    }
   },
   "source": [
    "**Important note!** Before you turn in this lab notebook, make sure everything runs as expected:\n",
    "\n",
    "- First, **restart the kernel** -- in the menubar, select Kernel$\\rightarrow$Restart.\n",
    "- Then **run all cells** -- in the menubar, select Cell$\\rightarrow$Run All.\n",
    "\n",
    "Make sure you fill in any place that says `YOUR CODE HERE` or \"YOUR ANSWER HERE.\""
   ]
  },
  {
   "cell_type": "markdown",
   "metadata": {
    "deletable": false,
    "editable": false,
    "nbgrader": {
     "checksum": "fe6f80bb7e34393557c3e58b5d8b18b2",
     "grade": false,
     "grade_id": "cell-467487ba59ea183e",
     "locked": true,
     "schema_version": 1,
     "solution": false
    }
   },
   "source": [
    "# Part 2: Dense matrix storage \n",
    "This part of the lab is a brief introduction to efficient storage of matrices."
   ]
  },
  {
   "cell_type": "markdown",
   "metadata": {},
   "source": [
    "**Exercise 0** (ungraded). Import Numpy!"
   ]
  },
  {
   "cell_type": "code",
   "execution_count": null,
   "metadata": {
    "collapsed": true,
    "deletable": false,
    "editable": false,
    "nbgrader": {
     "checksum": "6bdb9261dd1830080bc09f5fd0d8830c",
     "grade": false,
     "grade_id": "cell-4263c0d16078cf0a",
     "locked": true,
     "schema_version": 1,
     "solution": false
    }
   },
   "outputs": [],
   "source": [
    "import numpy as np"
   ]
  },
  {
   "cell_type": "markdown",
   "metadata": {},
   "source": [
    "## Dense matrix storage: Column-major versus row-major layouts\n",
    "\n",
    "For linear algebra, we will be especially interested in 2-D arrays, which we will use to store matrices. For this common case, there is a subtle performance issue related to how matrices are stored in memory.\n",
    "\n",
    "By way of background, physical storage---whether it be memory or disk---is basically one big array. And because of how physical storage is implemented, it turns out that it is much faster to access consecutive elements in memory than, say, to jump around randomly."
   ]
  },
  {
   "cell_type": "markdown",
   "metadata": {},
   "source": [
    "A matrix is a two-dimensional object. Thus, when it is stored in memory, it must be mapped in some way to the one-dimensional physical array. There are many possible mappings, but the two most common conventions are known as the _column-major_ and _row-major_ layouts:\n",
    "\n",
    "<img src=\"matrix-layout.png\" alt=\"Exercise: Extract these slices\" width=\"640\">"
   ]
  },
  {
   "cell_type": "markdown",
   "metadata": {},
   "source": [
    "**Exercise 1** (2 points). Let $A$ be an $m \\times n$ matrix stored in column-major format. Let $B$ be an $m \\times n$ matrix stored in row-major format.\n",
    "\n",
    "Based on the preceding discussion, recall that these objects will be mapped to 1-D arrays of length $mn$, behind the scenes. Let's call the 1-D array representations $\\hat{A}$ and $\\hat{B}$. Thus, the $(i, j)$ element of $a$, $a_{ij}$, will map to some element $\\hat{a}_u$ of $\\hat{A}$; similarly, $b_{ij}$ will map to some element $\\hat{b}_v$ of $\\hat{B}$.\n",
    "\n",
    "Determine formulae to compute the 1-D index values, $u$ and $v$, in terms of $\\{i, j, m, n\\}$. Assume that all indices are 0-based, i.e., $0 \\leq i \\leq m-1$, $0 \\leq j \\leq n-1$, and $0 \\leq u, v \\leq mn-1$."
   ]
  },
  {
   "cell_type": "code",
   "execution_count": null,
   "metadata": {
    "collapsed": true,
    "deletable": false,
    "nbgrader": {
     "checksum": "0398b2caf63af6a56c04a4620dbb88d7",
     "grade": false,
     "grade_id": "calc_u",
     "locked": false,
     "schema_version": 1,
     "solution": true
    }
   },
   "outputs": [],
   "source": [
    "def linearize_colmajor(i, j, m, n): # calculate `u`\n",
    "    \"\"\"\n",
    "    Returns the linear index for the `(i, j)` entry of\n",
    "    an `m`-by-`n` matrix stored in column-major order.\n",
    "    \"\"\"\n",
    "    # YOUR CODE HERE\n",
    "    raise NotImplementedError()"
   ]
  },
  {
   "cell_type": "code",
   "execution_count": null,
   "metadata": {
    "collapsed": true,
    "deletable": false,
    "nbgrader": {
     "checksum": "b737f24d216c3a39a70fb72980d87799",
     "grade": false,
     "grade_id": "calc_v",
     "locked": false,
     "schema_version": 1,
     "solution": true
    }
   },
   "outputs": [],
   "source": [
    "def linearize_rowmajor(i, j, m, n): # calculate `v`\n",
    "    \"\"\"\n",
    "    Returns the linear index for the `(i, j)` entry of\n",
    "    an `m`-by-`n` matrix stored in row-major order.\n",
    "    \"\"\"\n",
    "    # YOUR CODE HERE\n",
    "    raise NotImplementedError()"
   ]
  },
  {
   "cell_type": "code",
   "execution_count": null,
   "metadata": {
    "collapsed": true,
    "deletable": false,
    "editable": false,
    "nbgrader": {
     "checksum": "8541d1b9d1fc3c33862180f99a64b6c0",
     "grade": true,
     "grade_id": "calc_uv_test",
     "locked": true,
     "points": 2.0,
     "schema_version": 1,
     "solution": false
    }
   },
   "outputs": [],
   "source": [
    "# Test cell: `calc_uv_test`\n",
    "\n",
    "# Quick check (not exhaustive):\n",
    "assert linearize_colmajor(7, 4, 10, 20) == 47\n",
    "assert linearize_rowmajor(7, 4, 10, 20) == 144\n",
    "\n",
    "assert linearize_colmajor(10, 8, 86, 26) == 698\n",
    "assert linearize_rowmajor(10, 8, 86, 26) == 268\n",
    "\n",
    "assert linearize_colmajor(8, 34, 17, 40) == 586\n",
    "assert linearize_rowmajor(8, 34, 17, 40) == 354\n",
    "\n",
    "assert linearize_colmajor(32, 48, 37, 55) == 1808\n",
    "assert linearize_rowmajor(32, 48, 37, 55) == 1808\n",
    "\n",
    "assert linearize_colmajor(24, 33, 57, 87) == 1905\n",
    "assert linearize_rowmajor(24, 33, 57, 87) == 2121\n",
    "\n",
    "assert linearize_colmajor(10, 3, 19, 74) == 67\n",
    "assert linearize_rowmajor(10, 3, 19, 74) == 743\n",
    "\n",
    "print (\"(Passed.)\")"
   ]
  },
  {
   "cell_type": "markdown",
   "metadata": {},
   "source": [
    "## Requesting a layout in Numpy\n",
    "\n",
    "In Numpy, you can ask for either layout. The default in Numpy is row-major.\n",
    "\n",
    "Historically numerical linear algebra libraries were developed assuming column-major layout. This layout happens to be the default when you declare a 2-D array in the Fortran programming language. By contrast, in the C and C++ programming languages, the default convention for a 2-D array is row-major layout. So the Numpy default is the C/C++ convention.\n",
    "\n",
    "In your programs, you can request either order of Numpy using the `order` parameter. For linear algebra operations (common), we recommend using the column-major convention.\n",
    "\n",
    "In either case, here is how you would create column- and row-major matrices."
   ]
  },
  {
   "cell_type": "code",
   "execution_count": null,
   "metadata": {
    "collapsed": true
   },
   "outputs": [],
   "source": [
    "n = 5000\n",
    "A_colmaj = np.ones((n, n), order='F') # column-major (Fortran convention)\n",
    "A_rowmaj = np.ones((n, n), order='C') # row-major (C/C++ convention)"
   ]
  },
  {
   "cell_type": "markdown",
   "metadata": {},
   "source": [
    "**Exercise 2** (1 point). Given a matrix $A$, write a function that scales each column, $A(:, j)$ by $j$. Then compare the speed of applying that function to matrices in row and column major order."
   ]
  },
  {
   "cell_type": "code",
   "execution_count": null,
   "metadata": {
    "collapsed": true,
    "deletable": false,
    "nbgrader": {
     "checksum": "92d39b8546f2530ff7ce34815e890c8e",
     "grade": false,
     "grade_id": "scale_colwise",
     "locked": false,
     "schema_version": 1,
     "solution": true
    }
   },
   "outputs": [],
   "source": [
    "def scale_colwise(A):\n",
    "    \"\"\"Given a Numpy matrix `A`, visits each column `A[:, j]`\n",
    "    and scales it by `j`.\"\"\"\n",
    "    assert type(A) is np.ndarray\n",
    "    \n",
    "    n_cols = A.shape[1] # number of columns\n",
    "    # YOUR CODE HERE\n",
    "    raise NotImplementedError()\n",
    "    return A"
   ]
  },
  {
   "cell_type": "code",
   "execution_count": null,
   "metadata": {
    "collapsed": true,
    "deletable": false,
    "editable": false,
    "nbgrader": {
     "checksum": "a25cc46d8e3c7b1703a05c573e52905a",
     "grade": true,
     "grade_id": "scale_colwise_test",
     "locked": true,
     "points": 1,
     "schema_version": 1,
     "solution": false
    }
   },
   "outputs": [],
   "source": [
    "# Test (timing) cell: `scale_colwise_test`\n",
    "\n",
    "# Measure time to scale a row-major input column-wise\n",
    "%timeit scale_colwise(A_rowmaj)\n",
    "\n",
    "# Measure time to scale a column-major input column-wise\n",
    "%timeit scale_colwise(A_colmaj)"
   ]
  },
  {
   "cell_type": "markdown",
   "metadata": {
    "collapsed": true
   },
   "source": [
    "## Python vs. Numpy example: Matrix-vector multiply\n",
    "\n",
    "Look at the definition of matrix-vector multiplication from [Da Kuang's linear algebra notes](https://www.dropbox.com/s/f410k9fgd7iesdv/kuang-linalg-notes.pdf?dl=0). Let's benchmark a matrix-vector multiply in native Python, and compare that to doing the same operation in Numpy.\n",
    "\n",
    "First, some setup. (What does this code do?)"
   ]
  },
  {
   "cell_type": "code",
   "execution_count": null,
   "metadata": {
    "collapsed": true
   },
   "outputs": [],
   "source": [
    "# Dimensions; you might shrink this value for debugging\n",
    "n = 2500"
   ]
  },
  {
   "cell_type": "code",
   "execution_count": null,
   "metadata": {
    "collapsed": true
   },
   "outputs": [],
   "source": [
    "# Generate random values, for use in populating the matrix and vector\n",
    "from random import gauss\n",
    "\n",
    "# Native Python, using lists\n",
    "A_py = [gauss(0, 1) for i in range(n*n)] # Assume: Column-major\n",
    "x_py = [gauss(0, 1) for i in range(n)]"
   ]
  },
  {
   "cell_type": "code",
   "execution_count": null,
   "metadata": {
    "collapsed": true
   },
   "outputs": [],
   "source": [
    "# Convert values into Numpy arrays in column-major order\n",
    "A_np = np.reshape(A_py, (n, n), order='F')\n",
    "x_np = np.reshape(x_py, (n, 1), order='F')"
   ]
  },
  {
   "cell_type": "code",
   "execution_count": null,
   "metadata": {
    "collapsed": true
   },
   "outputs": [],
   "source": [
    "# Here is how you do a \"matvec\" in Numpy:\n",
    "%timeit A_np.dot(x_np)"
   ]
  },
  {
   "cell_type": "markdown",
   "metadata": {},
   "source": [
    "**Exercise 3** (3 points). Implement a matrix-vector product that operates on native Python lists. Assume the 1-D **column-major** storage of the matrix."
   ]
  },
  {
   "cell_type": "code",
   "execution_count": null,
   "metadata": {
    "collapsed": true,
    "deletable": false,
    "nbgrader": {
     "checksum": "4a15f98818ae88ecf5d0c0e7a01f68ef",
     "grade": false,
     "grade_id": "matvec_py",
     "locked": false,
     "schema_version": 1,
     "solution": true
    }
   },
   "outputs": [],
   "source": [
    "def matvec_py(m, n, A, x):\n",
    "    \"\"\"\n",
    "    Native Python-based matrix-vector multiply, using lists.\n",
    "    The dimensions of the matrix A are m-by-n, and x is a\n",
    "    vector of length n.\n",
    "    \"\"\"\n",
    "    assert type(A) is list and all([type(aij) is float for aij in A])\n",
    "    assert type(x) is list\n",
    "    assert len(x) >= n\n",
    "    assert len(A) >= (m*n)\n",
    "\n",
    "    y = [0.] * m\n",
    "    # YOUR CODE HERE\n",
    "    raise NotImplementedError()\n",
    "    return y"
   ]
  },
  {
   "cell_type": "code",
   "execution_count": null,
   "metadata": {
    "collapsed": true,
    "deletable": false,
    "editable": false,
    "nbgrader": {
     "checksum": "9c7de37d097208ac59f01cacb6219efb",
     "grade": true,
     "grade_id": "matvec_py_test",
     "locked": true,
     "points": 3.0,
     "schema_version": 1,
     "solution": false
    }
   },
   "outputs": [],
   "source": [
    "# Test cell: `matvec_py_test`\n",
    "\n",
    "# Estimate a bound on the difference between these two\n",
    "EPS = np.finfo (float).eps # \"machine epsilon\"\n",
    "CONST = 10.0 # Some constant for the error bound\n",
    "dy_max = CONST * n * EPS\n",
    "\n",
    "print (\"\"\"==> Error bound estimate:\n",
    "         C*n*eps\n",
    "         == %g*%g*%g\n",
    "         == %g\n",
    "\"\"\" % (CONST, n, EPS, dy_max))\n",
    "\n",
    "# Run the Numpy version and your code\n",
    "y_np = A_np.dot (x_np)\n",
    "y_py = matvec_py (n, n, A_py, x_py)\n",
    "\n",
    "# Compute the difference between these\n",
    "dy = y_np - np.reshape (y_py, (n, 1), order='F')\n",
    "dy_norm = np.linalg.norm (dy, ord=np.inf)\n",
    "\n",
    "# Summarize the results\n",
    "from IPython.display import display, Math\n",
    "\n",
    "comparison = \"\\leq\" if dy_norm <= dy_max else \"\\gt\"\n",
    "display (Math (\n",
    "        r'||y_{\\textrm{np}} - y_{\\textrm{py}}||_{\\infty}'\n",
    "        r' = \\textrm{%g} %s \\textrm{%g}\\ (\\textrm{estimated bound})'\n",
    "        % (dy_norm, comparison, dy_max)\n",
    "    ))\n",
    "\n",
    "if n <= 4: # Debug: Print all data for small inputs\n",
    "    print (\"@A_np:\\n\", A_np)\n",
    "    print (\"@x_np:\\n\", x_np)\n",
    "    print (\"@y_np:\\n\", y_np)\n",
    "    print (\"@A_py:\\n\", A_py)\n",
    "    print (\"@x_py:\\n\", x_np)\n",
    "    print (\"@y_py:\\n\", y_py)\n",
    "    print (\"@dy:\\n\", dy)\n",
    "\n",
    "# Trigger an error on likely failure\n",
    "assert dy_norm <= dy_max\n",
    "print(\"\\n(Passed!)\")"
   ]
  },
  {
   "cell_type": "code",
   "execution_count": null,
   "metadata": {
    "collapsed": true,
    "deletable": false,
    "editable": false,
    "nbgrader": {
     "checksum": "ff88d411a0cd18f7af44c6cfd0cd3e1f",
     "grade": false,
     "grade_id": "cell-f0155950b35ebcf2",
     "locked": true,
     "schema_version": 1,
     "solution": false
    }
   },
   "outputs": [],
   "source": [
    "%timeit matvec_py (n, n, A_py, x_py)"
   ]
  },
  {
   "cell_type": "markdown",
   "metadata": {
    "deletable": false,
    "editable": false,
    "nbgrader": {
     "checksum": "650423dc7171ac46eb784a57471c4c29",
     "grade": false,
     "grade_id": "cell-3c70eea14727218a",
     "locked": true,
     "schema_version": 1,
     "solution": false
    }
   },
   "source": [
    "**Fin!** If you've reached this point and everything executed without error, you can submit this part and move on to the next one."
   ]
  }
 ],
 "metadata": {
  "kernelspec": {
   "display_name": "Python 3",
   "language": "python",
   "name": "python3"
  },
  "language_info": {
   "codemirror_mode": {
    "name": "ipython",
    "version": 3
   },
   "file_extension": ".py",
   "mimetype": "text/x-python",
   "name": "python",
   "nbconvert_exporter": "python",
   "pygments_lexer": "ipython3",
   "version": "3.5.3"
  }
 },
 "nbformat": 4,
 "nbformat_minor": 1
}
