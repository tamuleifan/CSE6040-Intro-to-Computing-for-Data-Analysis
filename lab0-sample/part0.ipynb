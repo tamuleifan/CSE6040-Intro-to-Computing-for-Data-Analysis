{
 "cells": [
  {
   "cell_type": "markdown",
   "metadata": {
    "deletable": false,
    "editable": false,
    "nbgrader": {
     "checksum": "ec8cf1650bc52f8313832f3d3611786b",
     "grade": false,
     "grade_id": "cell-ca9366ee8c91d9c6",
     "locked": true,
     "schema_version": 1,
     "solution": false
    }
   },
   "source": [
    "**Important note!** Before you turn in this lab notebook, make sure everything runs as expected:\n",
    "\n",
    "- First, **restart the kernel** -- in the menubar, select Kernel$\\rightarrow$Restart.\n",
    "- Then **run all cells** -- in the menubar, select Cell$\\rightarrow$Run All.\n",
    "\n",
    "Make sure you fill in any place that says `YOUR CODE HERE` or \"YOUR ANSWER HERE.\""
   ]
  },
  {
   "cell_type": "markdown",
   "metadata": {
    "deletable": false,
    "editable": false,
    "nbgrader": {
     "checksum": "cd7f2bc99248fa96a4cc611664f296c3",
     "grade": false,
     "grade_id": "cell-d9da995b9796eee6",
     "locked": true,
     "schema_version": 1,
     "solution": false
    }
   },
   "source": [
    "# Sample notebook: Part 0\n",
    "\n",
    "This notebook is Part 0 of two parts (Parts 0 and 1): in the computer science tradition, we will try to number beginning at 0. Together, the two parts comprise an ungraded *lab notebook assignment* (or just *lab* or *assignment*). Although it's ungraded, use it as practice for completing and submitting an assignment."
   ]
  },
  {
   "cell_type": "markdown",
   "metadata": {
    "deletable": false,
    "editable": false,
    "nbgrader": {
     "checksum": "50318a748bcd178cc3995d169ce9ab7d",
     "grade": false,
     "grade_id": "cell-4471a63327d7bf4e",
     "locked": true,
     "schema_version": 1,
     "solution": false
    }
   },
   "source": [
    "## Python code cells\n",
    "\n",
    "Run the following code cell to determine the version of Python running in this environment. Make a mental note of the Python version"
   ]
  },
  {
   "cell_type": "code",
   "execution_count": null,
   "metadata": {
    "collapsed": false,
    "deletable": false,
    "editable": false,
    "nbgrader": {
     "checksum": "c7d7c0db7da3adadfabb1154386bd257",
     "grade": false,
     "grade_id": "cell-5861593650969326",
     "locked": true,
     "schema_version": 1,
     "solution": false
    }
   },
   "outputs": [],
   "source": [
    "import sys\n",
    "print(sys.version)\n",
    "py_ver = sys.version.split('|')[0]\n",
    "print(\"\\n** You appear to be running Python version {}**\".format(py_ver))"
   ]
  },
  {
   "cell_type": "markdown",
   "metadata": {},
   "source": [
    "In this course, notebook assignments will consist mainly of exercises like the following. You'll see a question, its point value, and a \"code cell,\" which is placeholder cell for coding up your solution. Following that code cell will typically be another code cell to help you *test and debug* your code. Indeed, the autograder works by verifying that these test cells pass.\n",
    "\n",
    "> The autograder may also test other cases that you do *not* get to see, so when writing up your solution be sure to follow the specifications of the problem carefully."
   ]
  },
  {
   "cell_type": "markdown",
   "metadata": {
    "deletable": false,
    "editable": false,
    "nbgrader": {
     "checksum": "dfe8d868b98235ab7bf5e6b09310e740",
     "grade": false,
     "grade_id": "cell-a338cae2f04262e7",
     "locked": true,
     "schema_version": 1,
     "solution": false
    }
   },
   "source": [
    "**Exercise 0** (1 point). Create a variable named `x` and assign it the integer value of 1."
   ]
  },
  {
   "cell_type": "code",
   "execution_count": null,
   "metadata": {
    "collapsed": true,
    "deletable": false,
    "nbgrader": {
     "checksum": "e77489b7ad64312cf30b0ebed1c34fce",
     "grade": false,
     "grade_id": "x",
     "locked": false,
     "schema_version": 1,
     "solution": true
    }
   },
   "outputs": [],
   "source": [
    "# YOUR CODE HERE\n",
    "raise NotImplementedError()"
   ]
  },
  {
   "cell_type": "code",
   "execution_count": null,
   "metadata": {
    "collapsed": false,
    "deletable": false,
    "editable": false,
    "nbgrader": {
     "checksum": "7df426c6600e974f27a217798ac051e8",
     "grade": true,
     "grade_id": "x_test",
     "locked": true,
     "points": 1,
     "schema_version": 1,
     "solution": false
    }
   },
   "outputs": [],
   "source": [
    "# This cell tests your code from above.\n",
    "\n",
    "print(\"Your x:\", x)\n",
    "assert x == 1\n",
    "\n",
    "print(\"\\nPassed!\")"
   ]
  },
  {
   "cell_type": "markdown",
   "metadata": {},
   "source": [
    "## Markdown cells\n",
    "\n",
    "Besides cells for code, you can edit or create cells intended to contain *formatted* text. The \"language\" used for such cells is called *Markdown*, which you can read a little more about [here](http://jupyter-notebook.readthedocs.io/en/latest/examples/Notebook/Working%20With%20Markdown%20Cells.html). It's like a simplified HTML designed to be readable both as plain text but also rendered as formatted text.\n",
    "\n",
    "Unfortunately, there are many flavors of Markdown and it is not always clearly documented what features are available in any particular environment. You may need to do some experimenting to figure out how to get text look the way you want, so just do your best when required."
   ]
  },
  {
   "cell_type": "markdown",
   "metadata": {
    "deletable": false,
    "editable": false,
    "nbgrader": {
     "checksum": "75a65fe229e9644739bf5b0e6c1d8243",
     "grade": false,
     "grade_id": "cell-e4a87946c4cd6859",
     "locked": true,
     "schema_version": 1,
     "solution": false
    }
   },
   "source": [
    "**Exercise 1** (1 point). The cell below has been set up to accept Markdown text. Edit it to display the image at this URL: http://cse6040.gatech.edu/datasets/mystery-image.jpg\n",
    "\n",
    "> For the Markdown syntax to embed an image, refer to this page: https://daringfireball.net/projects/markdown/basics"
   ]
  },
  {
   "cell_type": "markdown",
   "metadata": {
    "collapsed": true,
    "deletable": false,
    "nbgrader": {
     "checksum": "794aa5b8394a98685dcf6f4fdd920d89",
     "grade": true,
     "grade_id": "img",
     "locked": false,
     "points": 1,
     "schema_version": 1,
     "solution": true
    }
   },
   "source": [
    "YOUR ANSWER HERE"
   ]
  },
  {
   "cell_type": "markdown",
   "metadata": {
    "deletable": false,
    "editable": false,
    "nbgrader": {
     "checksum": "9deac404dfba4f2f677e801d50ec4212",
     "grade": false,
     "grade_id": "cell-7b5dfffc0f015b87",
     "locked": true,
     "schema_version": 1,
     "solution": false
    }
   },
   "source": [
    "This is the end of Part 0. If everything seems to have worked, try submitting it!"
   ]
  },
  {
   "cell_type": "code",
   "execution_count": null,
   "metadata": {
    "collapsed": true
   },
   "outputs": [],
   "source": []
  }
 ],
 "metadata": {
  "kernelspec": {
   "display_name": "Python 3",
   "language": "python",
   "name": "python3"
  },
  "language_info": {
   "codemirror_mode": {
    "name": "ipython",
    "version": 3
   },
   "file_extension": ".py",
   "mimetype": "text/x-python",
   "name": "python",
   "nbconvert_exporter": "python",
   "pygments_lexer": "ipython3",
   "version": "3.5.3"
  }
 },
 "nbformat": 4,
 "nbformat_minor": 2
}
