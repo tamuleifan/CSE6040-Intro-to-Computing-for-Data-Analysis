{
 "cells": [
  {
   "cell_type": "markdown",
   "metadata": {
    "deletable": false,
    "editable": false,
    "nbgrader": {
     "checksum": "ec8cf1650bc52f8313832f3d3611786b",
     "grade": false,
     "grade_id": "cell-ca9366ee8c91d9c6",
     "locked": true,
     "schema_version": 1,
     "solution": false
    }
   },
   "source": [
    "**Important note!** Before you turn in this lab notebook, make sure everything runs as expected:\n",
    "\n",
    "- First, **restart the kernel** -- in the menubar, select Kernel$\\rightarrow$Restart.\n",
    "- Then **run all cells** -- in the menubar, select Cell$\\rightarrow$Run All.\n",
    "\n",
    "Make sure you fill in any place that says `YOUR CODE HERE` or \"YOUR ANSWER HERE.\""
   ]
  },
  {
   "cell_type": "markdown",
   "metadata": {
    "deletable": false,
    "editable": false,
    "nbgrader": {
     "checksum": "306af747262746acd6c3923c50bba618",
     "grade": false,
     "grade_id": "cell-c4bddd7c58518b38",
     "locked": true,
     "schema_version": 1,
     "solution": false
    }
   },
   "source": [
    "# How is the average temperature in Atlanta changing over time?\n",
    "\n",
    "One way to answer this question is to type it into Google. You might even get lucky and find that someone has answered it, though when I tried it (in preparing for this class), I did not find that to be the case: http://lmgtfy.com/?q=how+is+the+average+temperature+in+atlanta+changing+over+time\n",
    "\n",
    "Here is another way: let's find the data and answer the question directly ourselves!"
   ]
  },
  {
   "cell_type": "code",
   "execution_count": null,
   "metadata": {
    "deletable": false,
    "editable": false,
    "nbgrader": {
     "checksum": "2739b457ff8c1fc35b580fa1d32b72dc",
     "grade": false,
     "grade_id": "cell-540c2d954ad8b3f6",
     "locked": true,
     "schema_version": 1,
     "solution": false
    }
   },
   "outputs": [],
   "source": [
    "import warnings\n",
    "warnings.filterwarnings('ignore')\n",
    "\n",
    "# For number crunching and data management:\n",
    "import numpy as np\n",
    "import pandas as pd\n",
    "from IPython.display import display\n",
    "\n",
    "# For plotting:\n",
    "#import matplotlib.pyplot as plt\n",
    "%matplotlib inline\n",
    "import seaborn as sns\n",
    "\n",
    "# For manipulating date/time stamps\n",
    "import time"
   ]
  },
  {
   "cell_type": "markdown",
   "metadata": {
    "deletable": false,
    "editable": false,
    "nbgrader": {
     "checksum": "1b40b70b5362d6f709e026c7f28accf8",
     "grade": false,
     "grade_id": "cell-5efe208f68f0fea3",
     "locked": true,
     "schema_version": 1,
     "solution": false
    }
   },
   "source": [
    "Start by downloading the data."
   ]
  },
  {
   "cell_type": "code",
   "execution_count": null,
   "metadata": {
    "deletable": false,
    "editable": false,
    "nbgrader": {
     "checksum": "4d399d470745b6e369fcfde9f71cbb21",
     "grade": false,
     "grade_id": "cell-fa8856c962145f6b",
     "locked": true,
     "schema_version": 1,
     "solution": false
    }
   },
   "outputs": [],
   "source": [
    "!rm -f temperatures-us-cities.csv  # get a fresh copy\n",
    "!curl -O -L https://github.com/rvuduc/cs1100/raw/master/temperatures-us-cities.csv"
   ]
  },
  {
   "cell_type": "markdown",
   "metadata": {
    "deletable": false,
    "editable": false,
    "nbgrader": {
     "checksum": "5bd5b1cbae3654192b724db897fcd949",
     "grade": false,
     "grade_id": "data",
     "locked": true,
     "schema_version": 1,
     "solution": false
    }
   },
   "source": [
    "**Exercise 1.** Load the data into a Pandas data frame called `data` and inspect the first few (e.g., 10) rows."
   ]
  },
  {
   "cell_type": "code",
   "execution_count": null,
   "metadata": {
    "deletable": false,
    "nbgrader": {
     "checksum": "0d3e8445352d031cce8ca1f46c281dc9",
     "grade": false,
     "grade_id": "cell-35e22ddae619f9c2",
     "locked": false,
     "schema_version": 1,
     "solution": true
    }
   },
   "outputs": [],
   "source": [
    "# YOUR CODE HERE\n",
    "raise NotImplementedError()"
   ]
  },
  {
   "cell_type": "markdown",
   "metadata": {
    "deletable": false,
    "editable": false,
    "nbgrader": {
     "checksum": "481bd186e4a1a8181f5e2e45ea84238e",
     "grade": false,
     "grade_id": "cell-a9e25aa0b5632e51",
     "locked": true,
     "schema_version": 1,
     "solution": false
    }
   },
   "source": [
    "**Exercise 2.** Extract all the entries for the city of Atlanta. Store the result in a new data frame named `atl[:]` that contains just this subset of the original `data[:]`."
   ]
  },
  {
   "cell_type": "code",
   "execution_count": null,
   "metadata": {
    "deletable": false,
    "nbgrader": {
     "checksum": "fc62eb09a367a1519943b8ae4ab67afe",
     "grade": false,
     "grade_id": "atl",
     "locked": false,
     "schema_version": 1,
     "solution": true
    }
   },
   "outputs": [],
   "source": [
    "# YOUR CODE HERE\n",
    "raise NotImplementedError()"
   ]
  },
  {
   "cell_type": "markdown",
   "metadata": {
    "deletable": false,
    "editable": false,
    "nbgrader": {
     "checksum": "90f1964cccddd55cb61e62e6f7238e59",
     "grade": false,
     "grade_id": "cell-dd7cdd053c57a6d0",
     "locked": true,
     "schema_version": 1,
     "solution": false
    }
   },
   "source": [
    "Note the missing data, represented by `NaN` (\"not-a-number\") values. Lesson 1: In real life, you always need to do some kind of data postprocessing and cleaning. As an additional step, let's drop any rows that have missing data."
   ]
  },
  {
   "cell_type": "code",
   "execution_count": null,
   "metadata": {
    "collapsed": true
   },
   "outputs": [],
   "source": [
    "?atl.dropna"
   ]
  },
  {
   "cell_type": "code",
   "execution_count": null,
   "metadata": {
    "deletable": false,
    "editable": false,
    "nbgrader": {
     "checksum": "1e3460be36dd3db851e91157fed913b6",
     "grade": false,
     "grade_id": "cell-8607550d4479517b",
     "locked": true,
     "schema_version": 1,
     "solution": false
    }
   },
   "outputs": [],
   "source": [
    "atl.dropna (inplace=True)\n",
    "atl.head (10)"
   ]
  },
  {
   "cell_type": "markdown",
   "metadata": {
    "deletable": false,
    "editable": false,
    "nbgrader": {
     "checksum": "8511c78960681cb73494c1beb61ba43d",
     "grade": false,
     "grade_id": "cell-1968d41600d69302",
     "locked": true,
     "schema_version": 1,
     "solution": false
    }
   },
   "source": [
    "**Exercise 3.** Create a new column named 'year' containing just the year (as an integer)."
   ]
  },
  {
   "cell_type": "code",
   "execution_count": null,
   "metadata": {
    "deletable": false,
    "nbgrader": {
     "checksum": "3839c24115a18ad062939edc0ca4e009",
     "grade": false,
     "grade_id": "get_year",
     "locked": false,
     "schema_version": 1,
     "solution": true
    }
   },
   "outputs": [],
   "source": [
    "# YOUR CODE HERE\n",
    "raise NotImplementedError()"
   ]
  },
  {
   "cell_type": "markdown",
   "metadata": {
    "deletable": false,
    "editable": false,
    "nbgrader": {
     "checksum": "ec14c7bc4634e4140ac8daf62bc813d6",
     "grade": false,
     "grade_id": "cell-77554103adf93022",
     "locked": true,
     "schema_version": 1,
     "solution": false
    }
   },
   "source": [
    "**Exercise 4.** Group the data by year and compute the mean temperature and uncertainty. Store the result in a data frame named `atl_means`."
   ]
  },
  {
   "cell_type": "code",
   "execution_count": null,
   "metadata": {
    "deletable": false,
    "nbgrader": {
     "checksum": "fe10b110abbabde757f7b359643c3acc",
     "grade": false,
     "grade_id": "atl_means",
     "locked": false,
     "schema_version": 1,
     "solution": true
    }
   },
   "outputs": [],
   "source": [
    "# YOUR CODE HERE\n",
    "raise NotImplementedError()"
   ]
  },
  {
   "cell_type": "markdown",
   "metadata": {
    "deletable": false,
    "editable": false,
    "nbgrader": {
     "checksum": "d00abe9e577cf869547829f69794d353",
     "grade": false,
     "grade_id": "cell-24f9ef0650730077",
     "locked": true,
     "schema_version": 1,
     "solution": false
    }
   },
   "source": [
    "**Exercise 5.** Convert the degrees Centigrade values to Farenheit. Store these values in two columns: `degF` (for `AverageTemperatureC`) and `deltaF` (for `AverageTemperatureUncertainty`)."
   ]
  },
  {
   "cell_type": "code",
   "execution_count": null,
   "metadata": {
    "deletable": false,
    "nbgrader": {
     "checksum": "7febcc8e1210373ddafa4cf82e3406e3",
     "grade": false,
     "grade_id": "degC_to_degF",
     "locked": false,
     "schema_version": 1,
     "solution": true
    }
   },
   "outputs": [],
   "source": [
    "# YOUR CODE HERE\n",
    "raise NotImplementedError()"
   ]
  },
  {
   "cell_type": "markdown",
   "metadata": {
    "deletable": false,
    "editable": false,
    "nbgrader": {
     "checksum": "7bd8cfc7830ab671f5456eb975d87e5d",
     "grade": false,
     "grade_id": "cell-95021f08073e386d",
     "locked": true,
     "schema_version": 1,
     "solution": false
    }
   },
   "source": [
    "Now let's plot the data to answer the question."
   ]
  },
  {
   "cell_type": "code",
   "execution_count": null,
   "metadata": {
    "deletable": false,
    "editable": false,
    "nbgrader": {
     "checksum": "78bfd5ea7f99562970781d232eb96416",
     "grade": false,
     "grade_id": "plot_trend",
     "locked": true,
     "schema_version": 1,
     "solution": false
    },
    "scrolled": true
   },
   "outputs": [],
   "source": [
    "sns.regplot (x='year', y='degF', data=atl_means)"
   ]
  },
  {
   "cell_type": "markdown",
   "metadata": {},
   "source": [
    "**Discussion.** There appears to be a warming trend though there is also a fair amount of variability. As such, what would you say are the limits to this analysis? Some suggestions for further exploration:\n",
    "\n",
    "- What do you make of the \"uncertainty\" field (computed as `atl_means['deltaF']`)?\n",
    "- Does the trend hold in other cities?\n",
    "- What sort of follow-up questions, analyses, data collection exercises, or simulations do you think would be useful for explaining _why_ this trend exists?"
   ]
  },
  {
   "cell_type": "code",
   "execution_count": null,
   "metadata": {
    "deletable": false,
    "editable": false,
    "nbgrader": {
     "checksum": "3f533239ba59b053b9826805cfd4a0eb",
     "grade": true,
     "grade_id": "final_test",
     "locked": true,
     "points": 1,
     "schema_version": 1,
     "solution": false
    }
   },
   "outputs": [],
   "source": [
    "import statsmodels.api as sm\n",
    "y = atl_means['degF'] # Response\n",
    "x = atl_means['year'] # Predictor\n",
    "x = sm.add_constant(x)\n",
    "model = sm.OLS(y, x)\n",
    "results = model.fit()\n",
    "delta_year = x['year'].max() - x['year'].min()\n",
    "delta_F = results.params['year']*delta_year\n",
    "print(\"==> Over {} years, the temperature changed by about {:.2f} degrees Farenheit.\".format(delta_year, delta_F))\n",
    "assert 2.48 <= delta_F <= 2.49\n",
    "print(\"\\n(Passed!)\")"
   ]
  },
  {
   "cell_type": "code",
   "execution_count": null,
   "metadata": {
    "collapsed": true
   },
   "outputs": [],
   "source": []
  }
 ],
 "metadata": {
  "kernelspec": {
   "display_name": "Python 3",
   "language": "python",
   "name": "python3"
  },
  "language_info": {
   "codemirror_mode": {
    "name": "ipython",
    "version": 3
   },
   "file_extension": ".py",
   "mimetype": "text/x-python",
   "name": "python",
   "nbconvert_exporter": "python",
   "pygments_lexer": "ipython3",
   "version": "3.6.1"
  }
 },
 "nbformat": 4,
 "nbformat_minor": 1
}
