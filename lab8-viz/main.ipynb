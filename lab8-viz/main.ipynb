{
 "cells": [
  {
   "cell_type": "markdown",
   "metadata": {
    "deletable": false,
    "editable": false,
    "nbgrader": {
     "checksum": "ec8cf1650bc52f8313832f3d3611786b",
     "grade": false,
     "grade_id": "cell-ca9366ee8c91d9c6",
     "locked": true,
     "schema_version": 1,
     "solution": false
    }
   },
   "source": [
    "**Important note!** Before you turn in this lab notebook, make sure everything runs as expected:\n",
    "\n",
    "- First, **restart the kernel** -- in the menubar, select Kernel$\\rightarrow$Restart.\n",
    "- Then **run all cells** -- in the menubar, select Cell$\\rightarrow$Run All.\n",
    "\n",
    "Make sure you fill in any place that says `YOUR CODE HERE` or \"YOUR ANSWER HERE.\""
   ]
  },
  {
   "cell_type": "markdown",
   "metadata": {
    "deletable": false,
    "editable": false,
    "nbgrader": {
     "checksum": "f662a9a90a6c2563274f9bcc01c9bbc6",
     "grade": false,
     "grade_id": "cell-68ccba1f58d11cd9",
     "locked": true,
     "schema_version": 1,
     "solution": false
    }
   },
   "source": [
    "# Tools for visualizing data\n",
    "\n",
    "This notebook is a \"tour\" of just a few of the data visualization capabilities available to you in Python. It focuses on two packages: [Bokeh](https://blog.modeanalytics.com/python-data-visualization-libraries/) for creating _interactive_ plots and _[Seaborn]_ for creating \"static\" (or non-interactive) plots. The former is really where the ability to develop _programmatic_ visualizations, that is, code that generates graphics, really shines. But the latter is important in printed materials and reports. So, both techniques should be a core part of your toolbox.\n",
    "\n",
    "With that, let's get started!\n",
    "\n",
    "> **Note 1.** Since visualizations are not amenable to autograding, this notebook is more of a demo of what you can do. It doesn't require you to write any code on your own. However, we strongly encourage you to spend some time experimenting with the basic methods here and generate some variations on your own. Once you start, you'll find it's more than a little fun!\n",
    ">\n",
    "> **Note 2.** Though designed for R programs, Hadley Wickham has an [excellent description of many of the principles in this notebook](http://r4ds.had.co.nz/data-visualisation.html)."
   ]
  },
  {
   "cell_type": "markdown",
   "metadata": {
    "deletable": false,
    "editable": false,
    "nbgrader": {
     "checksum": "1b23963d8a99397dd8677d7731a8a166",
     "grade": false,
     "grade_id": "cell-95f88d9fa0107aa0",
     "locked": true,
     "schema_version": 1,
     "solution": false
    }
   },
   "source": [
    "## Part 0: Downloading some data to visualize\n",
    "\n",
    "For the demos in this notebook, we'll need the Iris dataset. The following code cell downloads it for you."
   ]
  },
  {
   "cell_type": "code",
   "execution_count": null,
   "metadata": {
    "collapsed": false
   },
   "outputs": [],
   "source": [
    "import requests\n",
    "import os\n",
    "import hashlib\n",
    "import io\n",
    "\n",
    "def download(file, url_suffix=None, checksum=None):\n",
    "    if url_suffix is None:\n",
    "        url_suffix = file\n",
    "        \n",
    "    if not os.path.exists(file):\n",
    "        if os.path.exists('.voc'):\n",
    "            url = 'https://cse6040.gatech.edu/datasets/{}'.format(url_suffix)\n",
    "        else:\n",
    "            url = 'https://github.com/cse6040/labs-fa17/raw/master/datasets/{}'.format(url_suffix)\n",
    "        print(\"Downloading: {} ...\".format(url))\n",
    "        r = requests.get(url)\n",
    "        with open(file, 'w', encoding=r.encoding) as f:\n",
    "            f.write(r.text)\n",
    "            \n",
    "    if checksum is not None:\n",
    "        with io.open(file, 'r', encoding='utf-8', errors='replace') as f:\n",
    "            body = f.read()\n",
    "            body_checksum = hashlib.md5(body.encode('utf-8')).hexdigest()\n",
    "            assert body_checksum == checksum, \\\n",
    "                \"Downloaded file '{}' has incorrect checksum: '{}' instead of '{}'\".format(file, body_checksum, checksum)\n",
    "    \n",
    "    print(\"'{}' is ready!\".format(file))\n",
    "    \n",
    "datasets = {'iris.csv': ('tidy', 'd1175c032e1042bec7f974c91e4a65ae'),\n",
    "            'tips.csv': ('seaborn-data', 'ee24adf668f8946d4b00d3e28e470c82'),\n",
    "            'anscombe.csv': ('seaborn-data', '2c824795f5d51593ca7d660986aefb87'),\n",
    "            'titanic.csv': ('seaborn-data', '56f29cc0b807cb970a914ed075227f94')\n",
    "           }\n",
    "\n",
    "for filename, (category, checksum) in datasets.items():\n",
    "    download(filename, url_suffix='{}/{}'.format(category, filename), checksum=checksum)\n",
    "    \n",
    "print(\"\\n(All data appears to be ready.)\")"
   ]
  },
  {
   "cell_type": "markdown",
   "metadata": {
    "deletable": false,
    "editable": false,
    "nbgrader": {
     "checksum": "d58a728d4f1b182d73d67cd72922d402",
     "grade": false,
     "grade_id": "cell-5db4928204bed9c3",
     "locked": true,
     "schema_version": 1,
     "solution": false
    }
   },
   "source": [
    "# Part 1: Bokeh and the Grammar of Graphics (\"lite\")\n",
    "\n",
    "Let's start with some methods for creating an interactive visualization in Python and Jupyter, based on the [Bokeh](https://bokeh.pydata.org/en/latest/) package. The design and use of Bokeh is based on Leland Wilkinson's Grammar of Graphics (GoG).\n",
    "\n",
    "> If you've encountered GoG ideas before, it was probably when using the best known implementation of GoG, namely, Hadley Wickham's R package, [ggplot2](http://ggplot2.org/)."
   ]
  },
  {
   "cell_type": "markdown",
   "metadata": {
    "deletable": false,
    "editable": false,
    "nbgrader": {
     "checksum": "f49b4608b125dbafc2426684c38b1c65",
     "grade": false,
     "grade_id": "cell-f75e83b59f7f591e",
     "locked": true,
     "schema_version": 1,
     "solution": false
    }
   },
   "source": [
    "## Setup\n",
    "\n",
    "Here are the modules we'll need for this notebook:"
   ]
  },
  {
   "cell_type": "code",
   "execution_count": null,
   "metadata": {
    "collapsed": true,
    "deletable": true,
    "editable": true
   },
   "outputs": [],
   "source": [
    "from IPython.display import display, Markdown\n",
    "import pandas as pd\n",
    "import bokeh"
   ]
  },
  {
   "cell_type": "markdown",
   "metadata": {
    "deletable": false,
    "editable": false,
    "nbgrader": {
     "checksum": "3c272d35c0db5906fc315f30f4967972",
     "grade": false,
     "grade_id": "cell-ce1fc5c83119f9d5",
     "locked": true,
     "schema_version": 1,
     "solution": false
    }
   },
   "source": [
    "Bokeh is designed to output HTML, which you can then embed in any website. To embed Bokeh output into a Jupyter notebook, we need to do the following:"
   ]
  },
  {
   "cell_type": "code",
   "execution_count": null,
   "metadata": {
    "collapsed": false,
    "deletable": true,
    "editable": true
   },
   "outputs": [],
   "source": [
    "from bokeh.io import output_notebook\n",
    "from bokeh.io import show\n",
    "output_notebook ()"
   ]
  },
  {
   "cell_type": "markdown",
   "metadata": {
    "deletable": false,
    "editable": false,
    "nbgrader": {
     "checksum": "5b6fcca231728cc8ec9a256b7d31ea6f",
     "grade": false,
     "grade_id": "cell-d6dc53dd18f7aa35",
     "locked": true,
     "schema_version": 1,
     "solution": false
    }
   },
   "source": [
    "## Philosophy: Grammar of Graphics\n",
    "\n",
    "[The Grammar of Graphics](http://www.springer.com.prx.library.gatech.edu/us/book/9780387245447) is an idea of Leland Wilkinson. Its basic idea is that the way most people think about visualizing data is ad hoc and unsystematic, whereas there exists in fact a \"formal language\" for describing visual displays.\n",
    "\n",
    "The reason why this idea is important and powerful in the context of our course is that it makes visualization more systematic, thereby making it easier to create those visualizations through code.\n",
    "\n",
    "The high-level concept is simple:\n",
    "1. Start with a (tidy) data set.\n",
    "2. Transform it into a new (tidy) data set.\n",
    "3. Map variables to geometric objects (e.g., bars, points, lines) or other aesthetic \"flourishes\" (e.g., color).\n",
    "4. Rescale or transform the visual coordinate system.\n",
    "5. Render and enjoy!"
   ]
  },
  {
   "cell_type": "markdown",
   "metadata": {
    "deletable": false,
    "editable": false,
    "nbgrader": {
     "checksum": "37b770861acc273c73881bfe111991e9",
     "grade": false,
     "grade_id": "cell-f5e8aadffe1ffdae",
     "locked": true,
     "schema_version": 1,
     "solution": false
    }
   },
   "source": [
    "![From data to visualization](http://r4ds.had.co.nz/images/visualization-grammar-3.png)\n",
    "\n",
    "> This image is \"liberated\" from: http://r4ds.had.co.nz/data-visualisation.html"
   ]
  },
  {
   "cell_type": "markdown",
   "metadata": {
    "deletable": false,
    "editable": false,
    "nbgrader": {
     "checksum": "23f2b1dcb0f96645289f0f78653542c4",
     "grade": false,
     "grade_id": "cell-b9301fd37bdd794f",
     "locked": true,
     "schema_version": 1,
     "solution": false
    }
   },
   "source": [
    "## (High-Level) Charts\n",
    "\n",
    "The easiest way to use Bokeh is to call its interface for \"canned\" charts. For instance, let's load the Iris data set and study relationships among its variables, such as petal length vs. petal width.\n",
    "\n",
    "The cells below demonstrate histograms, simple scatter plots, and box plots. However, there is a much larger gallery of options: http://bokeh.pydata.org/en/latest/docs/user_guide/charts.html"
   ]
  },
  {
   "cell_type": "code",
   "execution_count": null,
   "metadata": {
    "collapsed": false,
    "deletable": true,
    "editable": true
   },
   "outputs": [],
   "source": [
    "flora = pd.read_csv ('iris.csv')\n",
    "display (flora.head ())"
   ]
  },
  {
   "cell_type": "code",
   "execution_count": null,
   "metadata": {
    "collapsed": false,
    "deletable": true,
    "editable": true
   },
   "outputs": [],
   "source": [
    "from bkcharts import Histogram, Scatter, BoxPlot\n",
    "from bokeh.io import show"
   ]
  },
  {
   "cell_type": "markdown",
   "metadata": {
    "deletable": false,
    "editable": false,
    "nbgrader": {
     "checksum": "131400e3ce94bbc0778981df2f1386f4",
     "grade": false,
     "grade_id": "cell-13afc4ad83c362bc",
     "locked": true,
     "schema_version": 1,
     "solution": false
    }
   },
   "source": [
    "### 1. Histogram\n",
    "\n",
    "* The Histogram(df, c) function can take a Pandas data frame df as input and refer to the aggregation variable, c, by column name.\n",
    "* The plot is interactive and comes with a bunch of tools. You can customize these tools as well; for your many options, see http://bokeh.pydata.org/en/latest/docs/user_guide/tools.html."
   ]
  },
  {
   "cell_type": "code",
   "execution_count": null,
   "metadata": {
    "collapsed": false,
    "deletable": true,
    "editable": true
   },
   "outputs": [],
   "source": [
    "p = Histogram(flora,'petal width', width =500, height = 500)\n",
    "show(p)"
   ]
  },
  {
   "cell_type": "markdown",
   "metadata": {
    "deletable": false,
    "editable": false,
    "nbgrader": {
     "checksum": "7cdc33dca920146843802edbcf71a218",
     "grade": false,
     "grade_id": "cell-c475ec5a7c315e19",
     "locked": true,
     "schema_version": 1,
     "solution": false
    }
   },
   "source": [
    "A user can interact with the chart above using the tools shown on the right-hand side. Indeed, you can select or customize these tools! You'll see an example below."
   ]
  },
  {
   "cell_type": "markdown",
   "metadata": {
    "deletable": false,
    "editable": false,
    "nbgrader": {
     "checksum": "47446b57e957f4ef209e91da3c1a13e8",
     "grade": false,
     "grade_id": "cell-3b5ff4061386a8c0",
     "locked": true,
     "schema_version": 1,
     "solution": false
    }
   },
   "source": [
    "### 2. ScatterPlot"
   ]
  },
  {
   "cell_type": "code",
   "execution_count": null,
   "metadata": {
    "collapsed": false,
    "deletable": true,
    "editable": true
   },
   "outputs": [],
   "source": [
    "p = Scatter(flora, x='petal width', y='sepal length')\n",
    "show(p)"
   ]
  },
  {
   "cell_type": "markdown",
   "metadata": {
    "deletable": false,
    "editable": false,
    "nbgrader": {
     "checksum": "1bca50d7f2d48245d4ceb4cabd3fb0ea",
     "grade": false,
     "grade_id": "cell-7899b7b4a0a95bd5",
     "locked": true,
     "schema_version": 1,
     "solution": false
    }
   },
   "source": [
    "### 3. BoxPlot"
   ]
  },
  {
   "cell_type": "code",
   "execution_count": null,
   "metadata": {
    "collapsed": false,
    "deletable": true,
    "editable": true
   },
   "outputs": [],
   "source": [
    "p = BoxPlot(flora, values='sepal length', label='petal width')\n",
    "show(p)"
   ]
  },
  {
   "cell_type": "markdown",
   "metadata": {
    "deletable": false,
    "editable": false,
    "nbgrader": {
     "checksum": "6d67587f6239351f07743c1d1edb29dc",
     "grade": false,
     "grade_id": "cell-3e391a23960633d9",
     "locked": true,
     "schema_version": 1,
     "solution": false
    }
   },
   "source": [
    "## Mid-level charts: the Plotting interface\n",
    "\n",
    "Beyond the canned methods above, Bokeh provides a \"mid-level\" interface that more directly exposes the grammar of graphics methodology for constructing visual displays.\n",
    "\n",
    "The basic procedure is \n",
    "* Create a blank canvas by calling `bokeh.plotting.figure`\n",
    "* Add glyphs, which are geometric shapes.\n",
    "\n",
    "> For a full list of glyphs, refer to the methods of `bokeh.plotting.figure`: http://bokeh.pydata.org/en/latest/docs/reference/plotting.html"
   ]
  },
  {
   "cell_type": "code",
   "execution_count": null,
   "metadata": {
    "collapsed": false,
    "deletable": true,
    "editable": true
   },
   "outputs": [],
   "source": [
    "from bokeh.plotting import figure\n",
    "\n",
    "# Create a canvas with a specific set of tools for the user:\n",
    "TOOLS = 'pan,box_zoom,wheel_zoom,lasso_select,save,reset,help'\n",
    "p = figure(width=500, height=500, tools=TOOLS)\n",
    "print(p)"
   ]
  },
  {
   "cell_type": "code",
   "execution_count": null,
   "metadata": {
    "collapsed": false,
    "deletable": true,
    "editable": true
   },
   "outputs": [],
   "source": [
    "# Add one or more glyphs\n",
    "p.triangle(x=flora['petal width'], y=flora['petal length'])"
   ]
  },
  {
   "cell_type": "code",
   "execution_count": null,
   "metadata": {
    "collapsed": false,
    "deletable": true,
    "editable": true
   },
   "outputs": [],
   "source": [
    "show(p)"
   ]
  },
  {
   "cell_type": "markdown",
   "metadata": {
    "deletable": false,
    "editable": false,
    "nbgrader": {
     "checksum": "485f88ce3ea0524d1bf9cf04f7d984ba",
     "grade": false,
     "grade_id": "cell-7b3c2686c7359d6f",
     "locked": true,
     "schema_version": 1,
     "solution": false
    }
   },
   "source": [
    "**Using data from Pandas.** Here is another way to do the same thing, but using a Pandas data frame as input."
   ]
  },
  {
   "cell_type": "code",
   "execution_count": null,
   "metadata": {
    "collapsed": false,
    "deletable": true,
    "editable": true
   },
   "outputs": [],
   "source": [
    "from bokeh.models import ColumnDataSource\n",
    "\n",
    "data=ColumnDataSource(flora)\n",
    "p=figure()\n",
    "p.triangle(source=data, x='petal width', y='petal length')\n",
    "show(p)"
   ]
  },
  {
   "cell_type": "markdown",
   "metadata": {
    "deletable": false,
    "editable": false,
    "nbgrader": {
     "checksum": "e63c4a7fb316fdce870d63b33eda5756",
     "grade": false,
     "grade_id": "cell-645fbb7085b97652",
     "locked": true,
     "schema_version": 1,
     "solution": false
    }
   },
   "source": [
    "**Color maps.** Let's make a map that assigns each unique species its own color. Incidentally, there are many choices of colors! http://bokeh.pydata.org/en/latest/docs/reference/palettes.html"
   ]
  },
  {
   "cell_type": "code",
   "execution_count": null,
   "metadata": {
    "collapsed": false,
    "deletable": true,
    "editable": true
   },
   "outputs": [],
   "source": [
    "# Determine the unique species\n",
    "unique_species = flora['species'].unique()\n",
    "print(unique_species)"
   ]
  },
  {
   "cell_type": "code",
   "execution_count": null,
   "metadata": {
    "collapsed": false,
    "deletable": true,
    "editable": true
   },
   "outputs": [],
   "source": [
    "# Map each species with a unique color\n",
    "from bokeh.palettes import brewer\n",
    "color_map = dict(zip(unique_species, brewer['Dark2'][len(unique_species)]))\n",
    "print(color_map)"
   ]
  },
  {
   "cell_type": "code",
   "execution_count": null,
   "metadata": {
    "collapsed": true,
    "deletable": true,
    "editable": true
   },
   "outputs": [],
   "source": [
    "# Create data sources for each species\n",
    "data_sources = {}\n",
    "for s in unique_species:\n",
    "    data_sources[s] = ColumnDataSource(flora[flora['species']==s])"
   ]
  },
  {
   "cell_type": "markdown",
   "metadata": {
    "deletable": false,
    "editable": false,
    "nbgrader": {
     "checksum": "977c38871993fdde55def735c8c72932",
     "grade": false,
     "grade_id": "cell-ac618eced95e38f2",
     "locked": true,
     "schema_version": 1,
     "solution": false
    }
   },
   "source": [
    "Now we can more programmatically generate the same plot as above, but use a unique color for each species."
   ]
  },
  {
   "cell_type": "code",
   "execution_count": null,
   "metadata": {
    "collapsed": false,
    "deletable": true,
    "editable": true,
    "scrolled": true
   },
   "outputs": [],
   "source": [
    "p = figure()\n",
    "for s in unique_species:\n",
    "    p.triangle(source=data_sources[s], x='petal width', y='petal length', color=color_map[s])\n",
    "show(p)"
   ]
  },
  {
   "cell_type": "markdown",
   "metadata": {
    "deletable": false,
    "editable": false,
    "nbgrader": {
     "checksum": "82959420420d2ee4267e780055e93b15",
     "grade": false,
     "grade_id": "cell-9814c5eb287aa04e",
     "locked": true,
     "schema_version": 1,
     "solution": false
    }
   },
   "source": [
    "That's just a quick tour of what you can do with Bokeh. We will incorporate it into some of our future labs. At this point, we'd encourage you to experiment with the code cells above and try generating your own variations!"
   ]
  },
  {
   "cell_type": "markdown",
   "metadata": {
    "deletable": false,
    "editable": false,
    "nbgrader": {
     "checksum": "08f7d4eb62d618742a793b20cfb5cb53",
     "grade": false,
     "grade_id": "cell-895c1dae15671a61",
     "locked": true,
     "schema_version": 1,
     "solution": false
    }
   },
   "source": [
    "# Part 2: Static visualizations using Seaborn\n",
    "\n",
    "Parts of this lab are taken from publicly available Seaborn tutorials.\n",
    "http://seaborn.pydata.org/tutorial/distributions.html\n",
    "\n",
    "They were adapted for use in this notebook by [Shang-Tse Chen at Georgia Tech](https://www.cc.gatech.edu/~schen351)."
   ]
  },
  {
   "cell_type": "code",
   "execution_count": null,
   "metadata": {
    "collapsed": true,
    "deletable": true,
    "editable": true
   },
   "outputs": [],
   "source": [
    "import seaborn as sns\n",
    "\n",
    "# The following Jupyter \"magic\" command forces plots to appear inline\n",
    "# within the notebook.\n",
    "%matplotlib inline"
   ]
  },
  {
   "cell_type": "markdown",
   "metadata": {
    "deletable": false,
    "editable": false,
    "nbgrader": {
     "checksum": "826c407d52e8827e2de3ce6edffee61b",
     "grade": false,
     "grade_id": "cell-a4804ae621a94995",
     "locked": true,
     "schema_version": 1,
     "solution": false
    }
   },
   "source": [
    "When dealing with a set of data, often the first thing we want to do is get a sense for how the variables are distributed. Here, we will look at some of the tools in seborn for examining univariate and bivariate distributions.\n",
    "\n",
    "### Plotting univariate distributions\n",
    " distplot() function will draw a histogram and fit a kernel density estimate"
   ]
  },
  {
   "cell_type": "code",
   "execution_count": null,
   "metadata": {
    "collapsed": false,
    "deletable": true,
    "editable": true
   },
   "outputs": [],
   "source": [
    "import numpy as np\n",
    "x = np.random.normal(size=100)\n",
    "sns.distplot(x)"
   ]
  },
  {
   "cell_type": "markdown",
   "metadata": {
    "deletable": false,
    "editable": false,
    "nbgrader": {
     "checksum": "6001ab13dd27b06cd399bf789b82af98",
     "grade": false,
     "grade_id": "cell-b914c2488e30edc3",
     "locked": true,
     "schema_version": 1,
     "solution": false
    }
   },
   "source": [
    "## Plotting bivariate distributions\n",
    "\n",
    "The easiest way to visualize a bivariate distribution in seaborn is to use the jointplot() function, which creates a multi-panel figure that shows both the bivariate (or joint) relationship between two variables along with the univariate (or marginal) distribution of each on separate axes."
   ]
  },
  {
   "cell_type": "code",
   "execution_count": null,
   "metadata": {
    "collapsed": true,
    "deletable": true,
    "editable": true
   },
   "outputs": [],
   "source": [
    "mean, cov = [0, 1], [(1, .5), (.5, 1)]\n",
    "data = np.random.multivariate_normal(mean, cov, 200)\n",
    "df = pd.DataFrame(data, columns=[\"x\", \"y\"])"
   ]
  },
  {
   "cell_type": "markdown",
   "metadata": {
    "deletable": false,
    "editable": false,
    "nbgrader": {
     "checksum": "d35457d93cb3be9151b6083423680f02",
     "grade": false,
     "grade_id": "cell-fbf50d07e77f3762",
     "locked": true,
     "schema_version": 1,
     "solution": false
    }
   },
   "source": [
    "**Basic scatter plots.** The most familiar way to visualize a bivariate distribution is a scatterplot, where each observation is shown with point at the x and y values. You can draw a scatterplot with the matplotlib plt.scatter function, and it is also the default kind of plot shown by the jointplot() function:"
   ]
  },
  {
   "cell_type": "code",
   "execution_count": null,
   "metadata": {
    "collapsed": false,
    "deletable": true,
    "editable": true
   },
   "outputs": [],
   "source": [
    "sns.jointplot(x=\"x\", y=\"y\", data=df)"
   ]
  },
  {
   "cell_type": "markdown",
   "metadata": {
    "deletable": false,
    "editable": false,
    "nbgrader": {
     "checksum": "770bbfdd63fa75173ff1e6f358df92e8",
     "grade": false,
     "grade_id": "cell-19c4c91feedd17ba",
     "locked": true,
     "schema_version": 1,
     "solution": false
    }
   },
   "source": [
    "**Hexbin plots.** The bivariate analogue of a histogram is known as a “hexbin” plot, because it shows the counts of observations that fall within hexagonal bins. This plot works best with relatively large datasets. It’s availible through the matplotlib plt.hexbin function and as a style in jointplot()"
   ]
  },
  {
   "cell_type": "code",
   "execution_count": null,
   "metadata": {
    "collapsed": false,
    "deletable": true,
    "editable": true
   },
   "outputs": [],
   "source": [
    "sns.jointplot(x=\"x\", y=\"y\", data=df, kind=\"hex\")"
   ]
  },
  {
   "cell_type": "markdown",
   "metadata": {
    "deletable": false,
    "editable": false,
    "nbgrader": {
     "checksum": "e467df96ba526e7022de36ccd66d7ab8",
     "grade": false,
     "grade_id": "cell-861f380f49545d53",
     "locked": true,
     "schema_version": 1,
     "solution": false
    }
   },
   "source": [
    "**Kernel density estimation.** It is also posible to use the kernel density estimation procedure described above to visualize a bivariate distribution. In seaborn, this kind of plot is shown with a contour plot and is available as a style in jointplot()"
   ]
  },
  {
   "cell_type": "code",
   "execution_count": null,
   "metadata": {
    "collapsed": false,
    "deletable": true,
    "editable": true
   },
   "outputs": [],
   "source": [
    "sns.jointplot(x=\"x\", y=\"y\", data=df, kind=\"kde\")"
   ]
  },
  {
   "cell_type": "markdown",
   "metadata": {
    "deletable": false,
    "editable": false,
    "nbgrader": {
     "checksum": "0ad98d1235596901848798d60e05da32",
     "grade": false,
     "grade_id": "cell-7993243c3ec4f369",
     "locked": true,
     "schema_version": 1,
     "solution": false
    }
   },
   "source": [
    "## Visualizing pairwise relationships in a dataset\n",
    "To plot multiple pairwise bivariate distributions in a dataset, you can use the pairplot() function. This creates a matrix of axes and shows the relationship for each pair of columns in a DataFrame. by default, it also draws the univariate distribution of each variable on the diagonal Axes:"
   ]
  },
  {
   "cell_type": "code",
   "execution_count": null,
   "metadata": {
    "collapsed": false,
    "deletable": true,
    "editable": true
   },
   "outputs": [],
   "source": [
    "sns.pairplot(flora)"
   ]
  },
  {
   "cell_type": "code",
   "execution_count": null,
   "metadata": {
    "collapsed": false,
    "deletable": true,
    "editable": true
   },
   "outputs": [],
   "source": [
    "# We can add colors to different species\n",
    "sns.pairplot(flora, hue=\"species\")"
   ]
  },
  {
   "cell_type": "markdown",
   "metadata": {
    "deletable": false,
    "editable": false,
    "nbgrader": {
     "checksum": "835c32f2d3e681dec7eed2ba49c79440",
     "grade": false,
     "grade_id": "cell-3d390e0849dc183d",
     "locked": true,
     "schema_version": 1,
     "solution": false
    }
   },
   "source": [
    "### Visualizing linear relationships"
   ]
  },
  {
   "cell_type": "code",
   "execution_count": null,
   "metadata": {
    "collapsed": false,
    "deletable": true,
    "editable": true
   },
   "outputs": [],
   "source": [
    "tips = pd.read_csv(\"tips.csv\")\n",
    "tips.head()"
   ]
  },
  {
   "cell_type": "markdown",
   "metadata": {
    "deletable": false,
    "editable": false,
    "nbgrader": {
     "checksum": "63600472fba3d1931540fe2b32f0b987",
     "grade": false,
     "grade_id": "cell-68f514e0a1cb5750",
     "locked": true,
     "schema_version": 1,
     "solution": false
    }
   },
   "source": [
    "We can use the function `regplot` to show the linear relationship between total_bill and tip. \n",
    "It also shows the 95% confidence interval."
   ]
  },
  {
   "cell_type": "code",
   "execution_count": null,
   "metadata": {
    "collapsed": false,
    "deletable": true,
    "editable": true
   },
   "outputs": [],
   "source": [
    "sns.regplot(x=\"total_bill\", y=\"tip\", data=tips)"
   ]
  },
  {
   "cell_type": "markdown",
   "metadata": {
    "deletable": false,
    "editable": false,
    "nbgrader": {
     "checksum": "1f131c73cc122ac80c99a7229c12f314",
     "grade": false,
     "grade_id": "cell-4908cbc2387a77f4",
     "locked": true,
     "schema_version": 1,
     "solution": false
    }
   },
   "source": [
    "### Visualizing higher order relationships"
   ]
  },
  {
   "cell_type": "code",
   "execution_count": null,
   "metadata": {
    "collapsed": false,
    "deletable": true,
    "editable": true
   },
   "outputs": [],
   "source": [
    "anscombe = pd.read_csv(\"anscombe.csv\")\n",
    "sns.regplot(x=\"x\", y=\"y\", data=anscombe[anscombe[\"dataset\"] == \"II\"])"
   ]
  },
  {
   "cell_type": "markdown",
   "metadata": {
    "collapsed": true,
    "deletable": false,
    "editable": false,
    "nbgrader": {
     "checksum": "3553443dd8c0eac95209a6e4fb1f8595",
     "grade": false,
     "grade_id": "cell-92d364907e616da2",
     "locked": true,
     "schema_version": 1,
     "solution": false
    }
   },
   "source": [
    "The plot clearly shows that this is not a good model.\n",
    "Let's try to fit a polynomial regression model with degree 2."
   ]
  },
  {
   "cell_type": "code",
   "execution_count": null,
   "metadata": {
    "collapsed": false,
    "deletable": true,
    "editable": true
   },
   "outputs": [],
   "source": [
    "sns.regplot(x=\"x\", y=\"y\", data=anscombe[anscombe[\"dataset\"] == \"II\"], order=2)"
   ]
  },
  {
   "cell_type": "markdown",
   "metadata": {
    "deletable": false,
    "editable": false,
    "nbgrader": {
     "checksum": "549a1516ac2c5478aa5f7c91e0aa2c65",
     "grade": false,
     "grade_id": "cell-ec3e15b8b5b23c71",
     "locked": true,
     "schema_version": 1,
     "solution": false
    }
   },
   "source": [
    "**Strip plots.** This is similar to scatter plot but used when one variable is categorical."
   ]
  },
  {
   "cell_type": "code",
   "execution_count": null,
   "metadata": {
    "collapsed": false,
    "deletable": true,
    "editable": true
   },
   "outputs": [],
   "source": [
    "sns.stripplot(x=\"day\", y=\"total_bill\", data=tips)"
   ]
  },
  {
   "cell_type": "markdown",
   "metadata": {
    "deletable": false,
    "editable": false,
    "nbgrader": {
     "checksum": "81a2e8f2b3bbe57b22d8ca0e2250ad62",
     "grade": false,
     "grade_id": "cell-c2f36f13e03deeb4",
     "locked": true,
     "schema_version": 1,
     "solution": false
    }
   },
   "source": [
    "**Box plots.**"
   ]
  },
  {
   "cell_type": "code",
   "execution_count": null,
   "metadata": {
    "collapsed": false,
    "deletable": true,
    "editable": true
   },
   "outputs": [],
   "source": [
    "sns.boxplot(x=\"day\", y=\"total_bill\", hue=\"time\", data=tips)"
   ]
  },
  {
   "cell_type": "markdown",
   "metadata": {
    "deletable": false,
    "editable": false,
    "nbgrader": {
     "checksum": "1662be9eea402ec92b929c73c36bb026",
     "grade": false,
     "grade_id": "cell-225fd12eb32db80a",
     "locked": true,
     "schema_version": 1,
     "solution": false
    }
   },
   "source": [
    "**Bar plots.**"
   ]
  },
  {
   "cell_type": "code",
   "execution_count": null,
   "metadata": {
    "collapsed": false,
    "deletable": true,
    "editable": true
   },
   "outputs": [],
   "source": [
    "titanic = pd.read_csv(\"titanic.csv\")\n",
    "sns.barplot(x=\"sex\", y=\"survived\", hue=\"class\", data=titanic)"
   ]
  },
  {
   "cell_type": "markdown",
   "metadata": {
    "deletable": false,
    "editable": false,
    "nbgrader": {
     "checksum": "ddaf6009c229a11f3460fbd582acd3ad",
     "grade": false,
     "grade_id": "cell-2fe535ea6bcfe105",
     "locked": true,
     "schema_version": 1,
     "solution": false
    }
   },
   "source": [
    "**Fin!** That ends this tour of basic plotting functionality available to you in Python. It only scratches the surface of what is possible. We'll explore more advanced features in future labs, but in the meantime, we encourage you to play with the code in this notebook and try to generate your own visualizations of datasets you care about!\n",
    "\n",
    "Although this notebook did not require you to write any code, go ahead and \"submit\" it for grading. You'll effectively get \"free points\" for doing so: the code cell below gives it to you."
   ]
  },
  {
   "cell_type": "code",
   "execution_count": null,
   "metadata": {
    "collapsed": true,
    "deletable": false,
    "editable": false,
    "nbgrader": {
     "checksum": "47ca45eef9420447697832fc9b619684",
     "grade": true,
     "grade_id": "freebie_test",
     "locked": true,
     "points": 5,
     "schema_version": 1,
     "solution": false
    }
   },
   "outputs": [],
   "source": [
    "# Test cell: `freebie_test`\n",
    "assert True"
   ]
  }
 ],
 "metadata": {
  "anaconda-cloud": {},
  "kernelspec": {
   "display_name": "Python 3",
   "language": "python",
   "name": "python3"
  },
  "language_info": {
   "codemirror_mode": {
    "name": "ipython",
    "version": 3
   },
   "file_extension": ".py",
   "mimetype": "text/x-python",
   "name": "python",
   "nbconvert_exporter": "python",
   "pygments_lexer": "ipython3",
   "version": "3.5.3"
  }
 },
 "nbformat": 4,
 "nbformat_minor": 2
}
